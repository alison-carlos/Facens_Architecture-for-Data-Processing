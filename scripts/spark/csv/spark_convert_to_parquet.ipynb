{
 "cells": [
  {
   "cell_type": "markdown",
   "id": "f6ce18a2-e43b-404e-8c03-85a35f220d05",
   "metadata": {},
   "source": [
    "<h2>Importando bibliotecas</h2>"
   ]
  },
  {
   "cell_type": "code",
   "execution_count": 1,
   "id": "f8755f2b-29f5-411d-91ed-3cd645ae0932",
   "metadata": {},
   "outputs": [],
   "source": [
    "import findspark\n",
    "findspark.init()\n",
    "import pyspark\n"
   ]
  },
  {
   "cell_type": "code",
   "execution_count": 2,
   "id": "1b10d3d7-9ec4-4a0a-9a35-4e69ce10e91c",
   "metadata": {},
   "outputs": [],
   "source": [
    "from pyspark import SparkContext\n",
    "from pyspark.sql import SparkSession"
   ]
  },
  {
   "cell_type": "code",
   "execution_count": 3,
   "id": "a338783b-5f04-41e4-8799-abf0962f065b",
   "metadata": {},
   "outputs": [
    {
     "name": "stderr",
     "output_type": "stream",
     "text": [
      "WARNING:root:'PYARROW_IGNORE_TIMEZONE' environment variable was not set. It is required to set this environment variable to '1' in both driver and executor sides if you use pyarrow>=2.0.0. pandas-on-Spark will set it for you but it does not work if there is a Spark context already launched.\n"
     ]
    }
   ],
   "source": [
    "import pandas as pd\n",
    "import pyspark.pandas as ps"
   ]
  },
  {
   "cell_type": "markdown",
   "id": "eafddd73-01b2-42da-af78-4408df23840f",
   "metadata": {},
   "source": [
    "<h2> Criando sessão do spark + configurações de conexão com bucket </h2>"
   ]
  },
  {
   "cell_type": "code",
   "execution_count": 4,
   "id": "adb7a61b-cffc-4d7c-a96f-c3f3d176b675",
   "metadata": {},
   "outputs": [
    {
     "name": "stderr",
     "output_type": "stream",
     "text": [
      "22/04/02 09:20:25 WARN Utils: Your hostname, moon resolves to a loopback address: 127.0.1.1; using 192.168.0.185 instead (on interface wlo1)\n",
      "22/04/02 09:20:25 WARN Utils: Set SPARK_LOCAL_IP if you need to bind to another address\n",
      "WARNING: An illegal reflective access operation has occurred\n",
      "WARNING: Illegal reflective access by org.apache.spark.unsafe.Platform (file:/opt/spark/jars/spark-unsafe_2.12-3.2.1.jar) to constructor java.nio.DirectByteBuffer(long,int)\n",
      "WARNING: Please consider reporting this to the maintainers of org.apache.spark.unsafe.Platform\n",
      "WARNING: Use --illegal-access=warn to enable warnings of further illegal reflective access operations\n",
      "WARNING: All illegal access operations will be denied in a future release\n",
      "Using Spark's default log4j profile: org/apache/spark/log4j-defaults.properties\n",
      "Setting default log level to \"WARN\".\n",
      "To adjust logging level use sc.setLogLevel(newLevel). For SparkR, use setLogLevel(newLevel).\n",
      "22/04/02 09:20:26 WARN NativeCodeLoader: Unable to load native-hadoop library for your platform... using builtin-java classes where applicable\n"
     ]
    }
   ],
   "source": [
    "spark = SparkSession.builder.appName('Read CSV File - Convert to Parquet').getOrCreate()"
   ]
  },
  {
   "cell_type": "code",
   "execution_count": 5,
   "id": "d0d44084-3487-4232-ac3b-6a216ee50320",
   "metadata": {},
   "outputs": [],
   "source": [
    "def load_config(spark_context: SparkContext):\n",
    "    spark_context._jsc.hadoopConfiguration().set('fs.s3a.aws.credentials.provider', 'com.amazonaws.auth.EnvironmentVariableCredentialsProvider')\n",
    "    spark_context._jsc.hadoopConfiguration().set('fs.s3a.path.style.access', 'true')\n",
    "    spark_context._jsc.hadoopConfiguration().set('fs.s3a.impl', 'org.apache.hadoop.fs.s3a.S3AFileSystem')\n",
    "    spark_context._jsc.hadoopConfiguration().set('fs.s3a.endpoint', 'http://localhost:9000')\n",
    "    spark_context._jsc.hadoopConfiguration().set('fs.s3a.connection.ssl.enabled', 'false')\n",
    "    \n",
    "load_config(spark.sparkContext)\n"
   ]
  },
  {
   "cell_type": "markdown",
   "id": "6838402d-8041-4693-959d-774a82a4855a",
   "metadata": {},
   "source": [
    "<h2> Lendo dados do bucket </h2>"
   ]
  },
  {
   "cell_type": "code",
   "execution_count": 22,
   "id": "6a7f6225-9c1b-40b9-8187-6c2fe650a232",
   "metadata": {},
   "outputs": [],
   "source": [
    "from pyspark.sql.types import StructType, StructField, StringType, TimestampType, IntegerType, FloatType\n",
    "\n",
    "reviews_schema = StructType(\n",
    "    [StructField(\"_c0\", IntegerType(), False),\n",
    "     StructField(\"app_id\", IntegerType(), False),\n",
    "     StructField(\"app_name\", StringType(), False),\n",
    "     StructField(\"review_id\", IntegerType(), False),\n",
    "     StructField(\"language\", IntegerType(), False),\n",
    "     StructField(\"timestamp_created\", IntegerType(), False),\n",
    "     StructField(\"timestamp_updated\", IntegerType(), False),\n",
    "     StructField(\"recommended\", StringType(), False),\n",
    "     StructField(\"votes_helpful\", IntegerType(), False),\n",
    "     StructField(\"votes_funny\", IntegerType(), False),\n",
    "     StructField(\"weighted_vote_score\", IntegerType(), False),\n",
    "     StructField(\"comment_count\", IntegerType(), False),\n",
    "     StructField(\"steam_purchase\", StringType(), False),\n",
    "     StructField(\"received_for_free\", StringType(), False),\n",
    "     StructField(\"written_during_early_access\", StringType(), False),\n",
    "     StructField(\"author.steamid\", IntegerType(), False),\n",
    "     StructField(\"author.num_games_owned\", IntegerType(), False),\n",
    "     StructField(\"author.num_reviews\", IntegerType(), False),\n",
    "     StructField(\"author.playtime_forever\", IntegerType(), False),\n",
    "     StructField(\"author.playtime_last_two_weeks\", IntegerType(), False),\n",
    "     StructField(\"author.playtime_at_review\", IntegerType(), False),\n",
    "     StructField(\"author.last_played\", IntegerType(), False)])"
   ]
  },
  {
   "cell_type": "code",
   "execution_count": 24,
   "id": "ea85cdb5-2beb-4098-b7c8-c6b25009d8d4",
   "metadata": {},
   "outputs": [],
   "source": [
    "df = spark.read.csv('s3a://bronze/dataset/*', multiLine=True, header=True, schema=reviews_schema) "
   ]
  },
  {
   "cell_type": "code",
   "execution_count": 25,
   "id": "94785fb7-4182-4420-9d57-b533b067f0a8",
   "metadata": {},
   "outputs": [
    {
     "name": "stdout",
     "output_type": "stream",
     "text": [
      "root\n",
      " |-- _c0: integer (nullable = true)\n",
      " |-- app_id: integer (nullable = true)\n",
      " |-- app_name: string (nullable = true)\n",
      " |-- review_id: integer (nullable = true)\n",
      " |-- language: integer (nullable = true)\n",
      " |-- timestamp_created: integer (nullable = true)\n",
      " |-- timestamp_updated: integer (nullable = true)\n",
      " |-- recommended: string (nullable = true)\n",
      " |-- votes_helpful: integer (nullable = true)\n",
      " |-- votes_funny: integer (nullable = true)\n",
      " |-- weighted_vote_score: integer (nullable = true)\n",
      " |-- comment_count: integer (nullable = true)\n",
      " |-- steam_purchase: string (nullable = true)\n",
      " |-- received_for_free: string (nullable = true)\n",
      " |-- written_during_early_access: string (nullable = true)\n",
      " |-- author.steamid: integer (nullable = true)\n",
      " |-- author.num_games_owned: integer (nullable = true)\n",
      " |-- author.num_reviews: integer (nullable = true)\n",
      " |-- author.playtime_forever: integer (nullable = true)\n",
      " |-- author.playtime_last_two_weeks: integer (nullable = true)\n",
      " |-- author.playtime_at_review: integer (nullable = true)\n",
      " |-- author.last_played: integer (nullable = true)\n",
      "\n"
     ]
    }
   ],
   "source": [
    "df.printSchema()"
   ]
  },
  {
   "cell_type": "code",
   "execution_count": 26,
   "id": "e9eecdc0-69ab-4d7c-b399-068fcef34c57",
   "metadata": {},
   "outputs": [
    {
     "name": "stderr",
     "output_type": "stream",
     "text": [
      "[Stage 15:>                                                         (0 + 1) / 1]\r"
     ]
    },
    {
     "name": "stdout",
     "output_type": "stream",
     "text": [
      "Number of records = 21,947,105\n"
     ]
    },
    {
     "name": "stderr",
     "output_type": "stream",
     "text": [
      "                                                                                \r"
     ]
    }
   ],
   "source": [
    "print(f\"Number of records = {df.count():,.0f}\")"
   ]
  },
  {
   "cell_type": "code",
   "execution_count": 28,
   "id": "1cacd05f-ccac-45c2-b54a-f794cccf3dea",
   "metadata": {},
   "outputs": [
    {
     "name": "stdout",
     "output_type": "stream",
     "text": [
      "root\n",
      " |-- app_id: integer (nullable = true)\n",
      " |-- app_name: string (nullable = true)\n",
      " |-- review_id: integer (nullable = true)\n",
      " |-- language: integer (nullable = true)\n",
      " |-- timestamp_created: integer (nullable = true)\n",
      " |-- timestamp_updated: integer (nullable = true)\n",
      " |-- recommended: string (nullable = true)\n",
      " |-- votes_helpful: integer (nullable = true)\n",
      " |-- votes_funny: integer (nullable = true)\n",
      " |-- weighted_vote_score: integer (nullable = true)\n",
      " |-- comment_count: integer (nullable = true)\n",
      " |-- steam_purchase: string (nullable = true)\n",
      " |-- received_for_free: string (nullable = true)\n",
      " |-- written_during_early_access: string (nullable = true)\n",
      " |-- author.steamid: integer (nullable = true)\n",
      " |-- author.num_games_owned: integer (nullable = true)\n",
      " |-- author.num_reviews: integer (nullable = true)\n",
      " |-- author.playtime_forever: integer (nullable = true)\n",
      " |-- author.playtime_last_two_weeks: integer (nullable = true)\n",
      " |-- author.playtime_at_review: integer (nullable = true)\n",
      " |-- author.last_played: integer (nullable = true)\n",
      "\n"
     ]
    }
   ],
   "source": [
    "# Recomendo coluna de index\n",
    "\n",
    "df.drop('_c0')\\\n",
    "    .printSchema()"
   ]
  },
  {
   "cell_type": "markdown",
   "id": "7e9efcd4-407f-4b38-93d9-91d5f1ba788c",
   "metadata": {},
   "source": [
    "## Salvando dados tratados no Silver"
   ]
  },
  {
   "cell_type": "code",
   "execution_count": 29,
   "id": "d32ac17b",
   "metadata": {},
   "outputs": [
    {
     "name": "stderr",
     "output_type": "stream",
     "text": [
      "22/04/02 10:02:03 WARN CSVHeaderChecker: Number of column in CSV header is not equal to number of fields in the schema:\n",
      " Header length: 23, schema size: 22\n",
      "CSV file: s3a://bronze/dataset/steam_reviews.csv\n",
      "                                                                                \r"
     ]
    }
   ],
   "source": [
    "df.write.partitionBy('app_id').mode('overwrite').parquet('s3a://silver/steam_reviews/reviews.parquet')"
   ]
  },
  {
   "cell_type": "code",
   "execution_count": null,
   "id": "614849dc",
   "metadata": {},
   "outputs": [],
   "source": []
  }
 ],
 "metadata": {
  "kernelspec": {
   "display_name": "Python 3 (ipykernel)",
   "language": "python",
   "name": "python3"
  },
  "language_info": {
   "codemirror_mode": {
    "name": "ipython",
    "version": 3
   },
   "file_extension": ".py",
   "mimetype": "text/x-python",
   "name": "python",
   "nbconvert_exporter": "python",
   "pygments_lexer": "ipython3",
   "version": "3.8.10"
  }
 },
 "nbformat": 4,
 "nbformat_minor": 5
}
