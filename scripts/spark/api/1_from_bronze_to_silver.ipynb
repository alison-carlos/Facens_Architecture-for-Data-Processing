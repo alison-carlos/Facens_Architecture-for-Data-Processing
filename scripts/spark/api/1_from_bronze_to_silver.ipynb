{
 "cells": [
  {
   "cell_type": "markdown",
   "id": "f6ce18a2-e43b-404e-8c03-85a35f220d05",
   "metadata": {},
   "source": [
    "<h2>Importando bibliotecas</h2>"
   ]
  },
  {
   "cell_type": "code",
   "execution_count": 26,
   "id": "f8755f2b-29f5-411d-91ed-3cd645ae0932",
   "metadata": {},
   "outputs": [],
   "source": [
    "import findspark\n",
    "findspark.init()\n",
    "import pyspark\n"
   ]
  },
  {
   "cell_type": "code",
   "execution_count": 27,
   "id": "1b10d3d7-9ec4-4a0a-9a35-4e69ce10e91c",
   "metadata": {},
   "outputs": [],
   "source": [
    "from pyspark import SparkContext\n",
    "from pyspark.sql import SparkSession"
   ]
  },
  {
   "cell_type": "code",
   "execution_count": 28,
   "id": "a338783b-5f04-41e4-8799-abf0962f065b",
   "metadata": {},
   "outputs": [],
   "source": [
    "import pandas as pd\n",
    "import pyspark.pandas as ps"
   ]
  },
  {
   "cell_type": "code",
   "execution_count": null,
   "id": "ef778ff0-767c-41a8-b617-242780207085",
   "metadata": {},
   "outputs": [],
   "source": [
    "import sys\n",
    "sys.path.append('/home/acsantos/Documents/Facens_Architecture-for-Data-Processing/scripts/minio')\n",
    "from move_files import fn_move_files"
   ]
  },
  {
   "cell_type": "markdown",
   "id": "eafddd73-01b2-42da-af78-4408df23840f",
   "metadata": {},
   "source": [
    "<h2> Criando sessão do spark + configurações de conexão com bucket </h2>"
   ]
  },
  {
   "cell_type": "code",
   "execution_count": 29,
   "id": "adb7a61b-cffc-4d7c-a96f-c3f3d176b675",
   "metadata": {},
   "outputs": [],
   "source": [
    "spark = SparkSession.builder.appName('Steam API - Tratamento').getOrCreate()"
   ]
  },
  {
   "cell_type": "code",
   "execution_count": 30,
   "id": "d0d44084-3487-4232-ac3b-6a216ee50320",
   "metadata": {},
   "outputs": [],
   "source": [
    "def load_config(spark_context: SparkContext):\n",
    "    spark_context._jsc.hadoopConfiguration().set('fs.s3a.aws.credentials.provider', 'com.amazonaws.auth.EnvironmentVariableCredentialsProvider')\n",
    "    spark_context._jsc.hadoopConfiguration().set('fs.s3a.path.style.access', 'true')\n",
    "    spark_context._jsc.hadoopConfiguration().set('fs.s3a.impl', 'org.apache.hadoop.fs.s3a.S3AFileSystem')\n",
    "    spark_context._jsc.hadoopConfiguration().set('fs.s3a.endpoint', 'http://localhost:9000')\n",
    "    spark_context._jsc.hadoopConfiguration().set('fs.s3a.connection.ssl.enabled', 'false')\n",
    "    \n",
    "load_config(spark.sparkContext)\n"
   ]
  },
  {
   "cell_type": "markdown",
   "id": "6838402d-8041-4693-959d-774a82a4855a",
   "metadata": {},
   "source": [
    "<h2> Lendo dados do bucket </h2>"
   ]
  },
  {
   "cell_type": "code",
   "execution_count": 31,
   "id": "ea85cdb5-2beb-4098-b7c8-c6b25009d8d4",
   "metadata": {},
   "outputs": [
    {
     "name": "stderr",
     "output_type": "stream",
     "text": [
      "                                                                                \r"
     ]
    }
   ],
   "source": [
    "df = spark.read.json('s3a://bronze/topics/steam/*', multiLine=True)"
   ]
  },
  {
   "cell_type": "code",
   "execution_count": 32,
   "id": "94785fb7-4182-4420-9d57-b533b067f0a8",
   "metadata": {},
   "outputs": [
    {
     "name": "stdout",
     "output_type": "stream",
     "text": [
      "root\n",
      " |-- appid: string (nullable = true)\n",
      " |-- comment_count: long (nullable = true)\n",
      " |-- language: string (nullable = true)\n",
      " |-- last_played: long (nullable = true)\n",
      " |-- num_games_owned: long (nullable = true)\n",
      " |-- num_reviews: long (nullable = true)\n",
      " |-- playtime_forever: long (nullable = true)\n",
      " |-- playtime_last_two_weeks: long (nullable = true)\n",
      " |-- received_for_free: boolean (nullable = true)\n",
      " |-- recommendationid: string (nullable = true)\n",
      " |-- review: string (nullable = true)\n",
      " |-- steam_purchase: boolean (nullable = true)\n",
      " |-- steamid: string (nullable = true)\n",
      " |-- timestamp_created: long (nullable = true)\n",
      " |-- timestamp_updated: long (nullable = true)\n",
      " |-- voted_up: boolean (nullable = true)\n",
      " |-- votes_funny: long (nullable = true)\n",
      " |-- votes_up: long (nullable = true)\n",
      " |-- weighted_vote_score: string (nullable = true)\n",
      " |-- written_during_early_access: boolean (nullable = true)\n",
      "\n"
     ]
    }
   ],
   "source": [
    "df.printSchema()"
   ]
  },
  {
   "cell_type": "code",
   "execution_count": 33,
   "id": "e9eecdc0-69ab-4d7c-b399-068fcef34c57",
   "metadata": {},
   "outputs": [
    {
     "data": {
      "text/plain": [
       "195"
      ]
     },
     "execution_count": 33,
     "metadata": {},
     "output_type": "execute_result"
    }
   ],
   "source": [
    "df.count()"
   ]
  },
  {
   "cell_type": "code",
   "execution_count": 34,
   "id": "1f823fd1-119d-441d-bb28-702dcc82589b",
   "metadata": {},
   "outputs": [],
   "source": [
    "#df = df.to_pandas_on_spark()"
   ]
  },
  {
   "cell_type": "code",
   "execution_count": 35,
   "id": "1cacd05f-ccac-45c2-b54a-f794cccf3dea",
   "metadata": {},
   "outputs": [
    {
     "name": "stdout",
     "output_type": "stream",
     "text": [
      "+-------+-------------+--------+-----------+---------------+-----------+----------------+-----------------------+-----------------+----------------+--------------------+--------------+-----------------+-----------------+-----------------+--------+-----------+--------+--------------------+---------------------------+\n",
      "|  appid|comment_count|language|last_played|num_games_owned|num_reviews|playtime_forever|playtime_last_two_weeks|received_for_free|recommendationid|              review|steam_purchase|          steamid|timestamp_created|timestamp_updated|voted_up|votes_funny|votes_up| weighted_vote_score|written_during_early_access|\n",
      "+-------+-------------+--------+-----------+---------------+-----------+----------------+-----------------------+-----------------+----------------+--------------------+--------------+-----------------+-----------------+-----------------+--------+-----------+--------+--------------------+---------------------------+\n",
      "|1055540|            0| english| 1648286540|             19|          1|             350|                      0|            false|       112755365|Short Hike Enjoye...|          true|76561198998458629|       1648139499|       1648139499|    true|          6|       7|0.522903501987457275|                      false|\n",
      "+-------+-------------+--------+-----------+---------------+-----------+----------------+-----------------------+-----------------+----------------+--------------------+--------------+-----------------+-----------------+-----------------+--------+-----------+--------+--------------------+---------------------------+\n",
      "only showing top 1 row\n",
      "\n"
     ]
    }
   ],
   "source": [
    "df.show(1, truncate=True)"
   ]
  },
  {
   "cell_type": "markdown",
   "id": "59ef149b",
   "metadata": {},
   "source": [
    "### Convertendo de timestamp UNIX para datetime"
   ]
  },
  {
   "cell_type": "code",
   "execution_count": 36,
   "id": "eb92a554-a7a0-451a-86d3-a3292f6078e5",
   "metadata": {},
   "outputs": [],
   "source": [
    "from pyspark.sql import functions as f\n",
    "from pyspark.sql import types as t\n",
    "from datetime import datetime"
   ]
  },
  {
   "cell_type": "code",
   "execution_count": 37,
   "id": "ffc787ab",
   "metadata": {},
   "outputs": [
    {
     "data": {
      "text/plain": [
       "DataFrame[appid: string, comment_count: bigint, language: string, last_played: string, num_games_owned: bigint, num_reviews: bigint, playtime_forever: bigint, playtime_last_two_weeks: bigint, received_for_free: boolean, recommendationid: string, review: string, steam_purchase: boolean, steamid: string, timestamp_created: string, timestamp_updated: string, voted_up: boolean, votes_funny: bigint, votes_up: bigint, weighted_vote_score: string, written_during_early_access: boolean]"
      ]
     },
     "execution_count": 37,
     "metadata": {},
     "output_type": "execute_result"
    }
   ],
   "source": [
    "df.withColumn('last_played', f.date_format(df.last_played.cast(dataType=t.TimestampType()), \"yyyy-MM-dd\")) \\\n",
    "  .withColumn('timestamp_created', f.date_format(df.timestamp_created.cast(dataType=t.TimestampType()), \"yyyy-MM-dd\")) \\\n",
    "  .withColumn('timestamp_updated', f.date_format(df.timestamp_updated.cast(dataType=t.TimestampType()), \"yyyy-MM-dd\"))"
   ]
  },
  {
   "cell_type": "code",
   "execution_count": 38,
   "id": "fef7c3e9",
   "metadata": {},
   "outputs": [],
   "source": [
    "df2 = df.withColumn('last_played', f.to_date(df.last_played.cast(dataType=t.TimestampType()))) \\\n",
    "        .withColumn('timestamp_created', f.to_date(df.timestamp_created.cast(dataType=t.TimestampType()))) \\\n",
    "        .withColumn('timestamp_updated', f.to_date(df.timestamp_updated.cast(dataType=t.TimestampType())))"
   ]
  },
  {
   "cell_type": "code",
   "execution_count": 39,
   "id": "aa359072",
   "metadata": {},
   "outputs": [],
   "source": [
    "df2 = df2.withColumn(\"last_played\",f.to_timestamp(df2['last_played'])) \\\n",
    "         .withColumn(\"timestamp_created\",f.to_timestamp(df2['timestamp_created'])) \\\n",
    "         .withColumn(\"timestamp_updated\",f.to_timestamp(df2['timestamp_updated']))\n",
    "\n",
    "    "
   ]
  },
  {
   "cell_type": "markdown",
   "id": "02410c1d-4992-42a8-ae64-1d14eccf9105",
   "metadata": {},
   "source": [
    "### Removendo possíveis registros duplicados"
   ]
  },
  {
   "cell_type": "code",
   "execution_count": 40,
   "id": "d32ac17b",
   "metadata": {},
   "outputs": [],
   "source": [
    "df3 = df2.drop_duplicates()"
   ]
  },
  {
   "cell_type": "markdown",
   "id": "f39129f5-9000-4ed5-8db8-8d93efe387c8",
   "metadata": {},
   "source": [
    " "
   ]
  },
  {
   "cell_type": "markdown",
   "id": "ef68b94a-5631-4abf-a58a-d21ba05ff9b5",
   "metadata": {},
   "source": [
    "### Filtrando colunas de interesse"
   ]
  },
  {
   "cell_type": "code",
   "execution_count": 41,
   "id": "a627c2de-e7a8-4d3f-b2d0-53e6c8385a19",
   "metadata": {},
   "outputs": [],
   "source": [
    "df4 = df3.select('appid', 'recommendationid', 'steamid', 'language', 'last_played', 'num_games_owned', 'playtime_forever', 'review', 'voted_up', 'votes_up','timestamp_created')"
   ]
  },
  {
   "cell_type": "code",
   "execution_count": 42,
   "id": "d4b0215d-6c0d-4808-b6f6-6caa237c6182",
   "metadata": {},
   "outputs": [
    {
     "name": "stdout",
     "output_type": "stream",
     "text": [
      "+-------+----------------+-----------------+--------+-------------------+---------------+----------------+--------------------+--------+--------+-------------------+\n",
      "|  appid|recommendationid|          steamid|language|        last_played|num_games_owned|playtime_forever|              review|voted_up|votes_up|  timestamp_created|\n",
      "+-------+----------------+-----------------+--------+-------------------+---------------+----------------+--------------------+--------+--------+-------------------+\n",
      "|1055540|       110515037|76561198997429067| english|2022-02-03 00:00:00|            162|             163|If you like short...|    true|       0|2022-02-18 00:00:00|\n",
      "|1055540|       104648492|76561199160365183| english|2022-03-30 00:00:00|            106|             393|i was absolutely ...|    true|       0|2021-11-29 00:00:00|\n",
      "|1055540|       106793767|76561198295246849| english|2021-12-29 00:00:00|            196|              75|         Bird Gaming|    true|       0|2021-12-29 00:00:00|\n",
      "|1055540|       107502260|76561198299091656| english|2022-01-08 00:00:00|             64|             593|Short, sweet and ...|    true|       4|2022-01-07 00:00:00|\n",
      "|1055540|       108170404|76561197981756929| english|2022-01-15 00:00:00|            132|             434|Very gorgeous gam...|    true|       0|2022-01-16 00:00:00|\n",
      "|1055540|       110871408|76561198254035857| english|2022-02-24 00:00:00|              7|             153|A Fantastic small...|    true|       0|2022-02-24 00:00:00|\n",
      "|1055540|       110464715|76561198159461400| english|2022-02-17 00:00:00|            167|             313|Without spoiling ...|    true|       0|2022-02-17 00:00:00|\n",
      "|1055540|       110789746|76561198268591042| english|2022-03-05 00:00:00|            105|             673|I wasn't expectin...|    true|       1|2022-02-22 00:00:00|\n",
      "|1055540|       103019591|76561199086054638| english|2021-11-18 00:00:00|             19|             203|        very calming|    true|       0|2021-11-18 00:00:00|\n",
      "|1055540|       111846555|76561199079538384| english|2022-03-10 00:00:00|             35|             346|So cute! Reminds ...|    true|       0|2022-03-09 00:00:00|\n",
      "|1055540|       106990057|76561197990094789| english|2021-12-31 00:00:00|           1059|             218|Really chill game...|    true|       0|2021-12-31 00:00:00|\n",
      "|1055540|       107754925|76561198127581019| english|2022-01-10 00:00:00|            139|             205|i cannot overstat...|    true|       3|2022-01-10 00:00:00|\n",
      "|1055540|       103647390|76561199096517025| english|2021-11-25 00:00:00|            495|             312|This game is a ni...|    true|       2|2021-11-25 00:00:00|\n",
      "|1055540|       105435506|76561198068067632| english|2021-12-08 00:00:00|             58|             350|It's the best gam...|    true|       0|2021-12-07 00:00:00|\n",
      "|1055540|       106387277|76561198093328872| english|2021-12-23 00:00:00|            470|             111|An incredibly cut...|    true|       0|2021-12-23 00:00:00|\n",
      "|1055540|       112755365|76561198998458629| english|2022-03-26 00:00:00|             19|             350|Short Hike Enjoye...|    true|       7|2022-03-24 00:00:00|\n",
      "|1055540|       111700411|76561198853055723| english|2022-01-16 00:00:00|            277|             287|A Short Hike... g...|    true|       0|2022-03-06 00:00:00|\n",
      "|1055540|       107334915|76561198987273231| english|2022-01-03 00:00:00|             14|             531|A heartwarming an...|    true|       0|2022-01-04 00:00:00|\n",
      "|1055540|       108709186|76561199162989711| english|2022-04-07 00:00:00|             64|             509|Cute, funny, rela...|    true|       0|2022-01-24 00:00:00|\n",
      "|1055540|       102702263|76561197994582441| english|2021-11-11 00:00:00|            143|             116|I don't understan...|    true|       0|2021-11-13 00:00:00|\n",
      "+-------+----------------+-----------------+--------+-------------------+---------------+----------------+--------------------+--------+--------+-------------------+\n",
      "only showing top 20 rows\n",
      "\n"
     ]
    }
   ],
   "source": [
    "df4.show()"
   ]
  },
  {
   "cell_type": "code",
   "execution_count": 43,
   "id": "90dfbd75-46b7-4981-b7cc-970411ba5898",
   "metadata": {},
   "outputs": [],
   "source": [
    "df4 = df4.withColumnRenamed('appid', 'app_id')"
   ]
  },
  {
   "cell_type": "markdown",
   "id": "1e9990ff-5e79-4030-9d20-b817c330996d",
   "metadata": {},
   "source": [
    "## Salvando dados tratados no Silver"
   ]
  },
  {
   "cell_type": "code",
   "execution_count": 44,
   "id": "bf85b6c3-e4f1-45aa-b241-fd791e7c49b9",
   "metadata": {},
   "outputs": [],
   "source": [
    "#df4.write.partitionBy('appid').mode('overwrite').parquet('s3a://silver/steam_reviews/reviews.parquet')\n",
    "\n",
    "df4.write.partitionBy('app_id').mode('append').parquet('s3a://silver/steam_reviews/reviews.parquet')"
   ]
  },
  {
   "cell_type": "markdown",
   "id": "920e9645-e339-4b2b-ba10-dd4a564c7b6f",
   "metadata": {},
   "source": [
    "# Movendo arquivos que foram lidos para pasta de processados."
   ]
  },
  {
   "cell_type": "code",
   "execution_count": 47,
   "id": "9cb918e0-42c4-4825-b6c4-9dc3288ade03",
   "metadata": {},
   "outputs": [],
   "source": [
    "fn_move_files(bucket='bronze', sourcePath='topics/steam/partition=0/', destinationPath='processed_files/steam/')"
   ]
  }
 ],
 "metadata": {
  "kernelspec": {
   "display_name": "Python 3 (ipykernel)",
   "language": "python",
   "name": "python3"
  },
  "language_info": {
   "codemirror_mode": {
    "name": "ipython",
    "version": 3
   },
   "file_extension": ".py",
   "mimetype": "text/x-python",
   "name": "python",
   "nbconvert_exporter": "python",
   "pygments_lexer": "ipython3",
   "version": "3.8.10"
  }
 },
 "nbformat": 4,
 "nbformat_minor": 5
}
