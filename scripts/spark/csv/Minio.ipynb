{
 "cells": [
  {
   "cell_type": "code",
   "execution_count": 1,
   "id": "055428b3-5e8a-4ea1-bb04-709f6d308f30",
   "metadata": {},
   "outputs": [],
   "source": [
    "import sys\n",
    "\n",
    "sys.path.append('/home/acsantos/Documents/Facens_Architecture-for-Data-Processing/scripts/extract_reviews_from_steam_api')\n",
    "from update_last_review import addGames \n"
   ]
  },
  {
   "cell_type": "code",
   "execution_count": 2,
   "id": "59217261-74b1-4b6b-8ee9-5c3ea91795ed",
   "metadata": {},
   "outputs": [],
   "source": [
    "from minio import Minio\n",
    "from minio.error import *\n",
    "import boto3\n",
    "from io import BytesIO\n",
    "\n",
    "host = 'localhost:9000'\n",
    "access_key = 'minio'\n",
    "secret_key = 'miniostorage'\n",
    "\n",
    "client = Minio(host, access_key=access_key,\n",
    "                    secret_key=secret_key, secure=False)\n"
   ]
  },
  {
   "cell_type": "code",
   "execution_count": 7,
   "id": "1fb9eac4-5e40-4719-ad57-de7fbb960ea4",
   "metadata": {},
   "outputs": [],
   "source": [
    "# List objects information \n",
    "objects = client.list_objects(\n",
    "    \"silver\", \n",
    "    prefix=\"/steam_reviews/reviews.parquet/\", \n",
    "    recursive=True, \n",
    "    start_after=\"steam_reviews/reviews.parquet/app_id/\"\n",
    ")\n",
    "\n",
    "for obj in objects:\n",
    "    result = client.stat_object(\"silver\", obj.object_name)\n",
    "    \n",
    "    app_id = obj.object_name[37:]\n",
    "    app_id = app_id[:app_id.index('/')]\n",
    "    \n",
    "    game = {\n",
    "    'name' : None,\n",
    "    'appid' : app_id,\n",
    "    'last_review_retrieved' : None,\n",
    "    'silverPath' : obj.object_name,\n",
    "    'silverLastModified' : result.last_modified,\n",
    "    'silverSize' : result.size\n",
    "\n",
    "    }\n",
    "    \n",
    "    addGames(game)\n"
   ]
  },
  {
   "cell_type": "code",
   "execution_count": null,
   "id": "03c387b3-3063-43ce-9ebc-87f29646bbb3",
   "metadata": {},
   "outputs": [],
   "source": []
  }
 ],
 "metadata": {
  "kernelspec": {
   "display_name": "Python 3 (ipykernel)",
   "language": "python",
   "name": "python3"
  },
  "language_info": {
   "codemirror_mode": {
    "name": "ipython",
    "version": 3
   },
   "file_extension": ".py",
   "mimetype": "text/x-python",
   "name": "python",
   "nbconvert_exporter": "python",
   "pygments_lexer": "ipython3",
   "version": "3.8.10"
  }
 },
 "nbformat": 4,
 "nbformat_minor": 5
}
