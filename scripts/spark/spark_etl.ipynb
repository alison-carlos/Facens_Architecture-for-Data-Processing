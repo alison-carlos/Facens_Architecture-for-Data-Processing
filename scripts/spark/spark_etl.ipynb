{
 "cells": [
  {
   "cell_type": "markdown",
   "id": "f6ce18a2-e43b-404e-8c03-85a35f220d05",
   "metadata": {},
   "source": [
    "<h2>Importando bibliotecas</h2>"
   ]
  },
  {
   "cell_type": "code",
   "execution_count": 1,
   "id": "f8755f2b-29f5-411d-91ed-3cd645ae0932",
   "metadata": {},
   "outputs": [],
   "source": [
    "import findspark\n",
    "findspark.init()\n",
    "import pyspark\n"
   ]
  },
  {
   "cell_type": "code",
   "execution_count": 2,
   "id": "1b10d3d7-9ec4-4a0a-9a35-4e69ce10e91c",
   "metadata": {},
   "outputs": [],
   "source": [
    "from pyspark import SparkContext\n",
    "from pyspark.sql import SparkSession"
   ]
  },
  {
   "cell_type": "code",
   "execution_count": 3,
   "id": "a338783b-5f04-41e4-8799-abf0962f065b",
   "metadata": {},
   "outputs": [
    {
     "name": "stderr",
     "output_type": "stream",
     "text": [
      "WARNING:root:'PYARROW_IGNORE_TIMEZONE' environment variable was not set. It is required to set this environment variable to '1' in both driver and executor sides if you use pyarrow>=2.0.0. pandas-on-Spark will set it for you but it does not work if there is a Spark context already launched.\n"
     ]
    }
   ],
   "source": [
    "import pandas as pd\n",
    "import pyspark.pandas as ps"
   ]
  },
  {
   "cell_type": "markdown",
   "id": "eafddd73-01b2-42da-af78-4408df23840f",
   "metadata": {},
   "source": [
    "<h2> Criando sessão do spark + configurações de conexão com bucket </h2>"
   ]
  },
  {
   "cell_type": "code",
   "execution_count": 4,
   "id": "adb7a61b-cffc-4d7c-a96f-c3f3d176b675",
   "metadata": {},
   "outputs": [
    {
     "name": "stderr",
     "output_type": "stream",
     "text": [
      "22/03/14 21:40:57 WARN Utils: Your hostname, moon resolves to a loopback address: 127.0.1.1; using 192.168.0.185 instead (on interface wlo1)\n",
      "22/03/14 21:40:57 WARN Utils: Set SPARK_LOCAL_IP if you need to bind to another address\n",
      "WARNING: An illegal reflective access operation has occurred\n",
      "WARNING: Illegal reflective access by org.apache.spark.unsafe.Platform (file:/opt/spark/jars/spark-unsafe_2.12-3.2.1.jar) to constructor java.nio.DirectByteBuffer(long,int)\n",
      "WARNING: Please consider reporting this to the maintainers of org.apache.spark.unsafe.Platform\n",
      "WARNING: Use --illegal-access=warn to enable warnings of further illegal reflective access operations\n",
      "WARNING: All illegal access operations will be denied in a future release\n",
      "Using Spark's default log4j profile: org/apache/spark/log4j-defaults.properties\n",
      "Setting default log level to \"WARN\".\n",
      "To adjust logging level use sc.setLogLevel(newLevel). For SparkR, use setLogLevel(newLevel).\n",
      "22/03/14 21:40:58 WARN NativeCodeLoader: Unable to load native-hadoop library for your platform... using builtin-java classes where applicable\n"
     ]
    }
   ],
   "source": [
    "spark = SparkSession.builder.appName('Steam API - Tratamento').getOrCreate()"
   ]
  },
  {
   "cell_type": "code",
   "execution_count": 5,
   "id": "d0d44084-3487-4232-ac3b-6a216ee50320",
   "metadata": {},
   "outputs": [],
   "source": [
    "def load_config(spark_context: SparkContext):\n",
    "    spark_context._jsc.hadoopConfiguration().set('fs.s3a.aws.credentials.provider', 'com.amazonaws.auth.EnvironmentVariableCredentialsProvider')\n",
    "    spark_context._jsc.hadoopConfiguration().set('fs.s3a.path.style.access', 'true')\n",
    "    spark_context._jsc.hadoopConfiguration().set('fs.s3a.impl', 'org.apache.hadoop.fs.s3a.S3AFileSystem')\n",
    "    spark_context._jsc.hadoopConfiguration().set('fs.s3a.endpoint', 'http://localhost:9000')\n",
    "    spark_context._jsc.hadoopConfiguration().set('fs.s3a.connection.ssl.enabled', 'false')\n",
    "    \n",
    "load_config(spark.sparkContext)\n"
   ]
  },
  {
   "cell_type": "markdown",
   "id": "6838402d-8041-4693-959d-774a82a4855a",
   "metadata": {},
   "source": [
    "<h2> Lendo dados do bucket </h2>"
   ]
  },
  {
   "cell_type": "code",
   "execution_count": 28,
   "id": "ea85cdb5-2beb-4098-b7c8-c6b25009d8d4",
   "metadata": {},
   "outputs": [
    {
     "name": "stderr",
     "output_type": "stream",
     "text": [
      "                                                                                \r"
     ]
    }
   ],
   "source": [
    "df = spark.read.json('s3a://kafka-bucket/topics/steam/*', multiLine=True)"
   ]
  },
  {
   "cell_type": "code",
   "execution_count": 29,
   "id": "94785fb7-4182-4420-9d57-b533b067f0a8",
   "metadata": {},
   "outputs": [
    {
     "name": "stdout",
     "output_type": "stream",
     "text": [
      "root\n",
      " |-- appid: string (nullable = true)\n",
      " |-- comment_count: long (nullable = true)\n",
      " |-- language: string (nullable = true)\n",
      " |-- last_played: long (nullable = true)\n",
      " |-- num_games_owned: long (nullable = true)\n",
      " |-- num_reviews: long (nullable = true)\n",
      " |-- playtime_forever: long (nullable = true)\n",
      " |-- playtime_last_two_weeks: long (nullable = true)\n",
      " |-- received_for_free: boolean (nullable = true)\n",
      " |-- recommendationid: string (nullable = true)\n",
      " |-- review: string (nullable = true)\n",
      " |-- steam_purchase: boolean (nullable = true)\n",
      " |-- steamid: string (nullable = true)\n",
      " |-- timestamp_created: long (nullable = true)\n",
      " |-- timestamp_updated: long (nullable = true)\n",
      " |-- voted_up: boolean (nullable = true)\n",
      " |-- votes_funny: long (nullable = true)\n",
      " |-- votes_up: long (nullable = true)\n",
      " |-- weighted_vote_score: string (nullable = true)\n",
      " |-- written_during_early_access: boolean (nullable = true)\n",
      "\n"
     ]
    }
   ],
   "source": [
    "df.printSchema()"
   ]
  },
  {
   "cell_type": "code",
   "execution_count": 30,
   "id": "e9eecdc0-69ab-4d7c-b399-068fcef34c57",
   "metadata": {},
   "outputs": [
    {
     "name": "stderr",
     "output_type": "stream",
     "text": [
      "                                                                                \r"
     ]
    },
    {
     "data": {
      "text/plain": [
       "3565"
      ]
     },
     "execution_count": 30,
     "metadata": {},
     "output_type": "execute_result"
    }
   ],
   "source": [
    "df.count()"
   ]
  },
  {
   "cell_type": "code",
   "execution_count": 16,
   "id": "1f823fd1-119d-441d-bb28-702dcc82589b",
   "metadata": {},
   "outputs": [],
   "source": [
    "#df = df.to_pandas_on_spark()"
   ]
  },
  {
   "cell_type": "code",
   "execution_count": 31,
   "id": "1cacd05f-ccac-45c2-b54a-f794cccf3dea",
   "metadata": {},
   "outputs": [
    {
     "name": "stdout",
     "output_type": "stream",
     "text": [
      "+------+-------------+--------+-----------+---------------+-----------+----------------+-----------------------+-----------------+----------------+--------------------+--------------+-----------------+-----------------+-----------------+--------+-----------+--------+-------------------+---------------------------+\n",
      "| appid|comment_count|language|last_played|num_games_owned|num_reviews|playtime_forever|playtime_last_two_weeks|received_for_free|recommendationid|              review|steam_purchase|          steamid|timestamp_created|timestamp_updated|voted_up|votes_funny|votes_up|weighted_vote_score|written_during_early_access|\n",
      "+------+-------------+--------+-----------+---------------+-----------+----------------+-----------------------+-----------------+----------------+--------------------+--------------+-----------------+-----------------+-----------------+--------+-----------+--------+-------------------+---------------------------+\n",
      "|271590|            0| english| 1647297014|             96|          4|           18058|                    184|            false|       112196380|I used to think t...|          true|76561198880072832|       1647297101|       1647297101|    true|          0|       0|                  0|                      false|\n",
      "|271590|            0| english| 1647297014|             96|          4|           18058|                    184|            false|       112196380|I used to think t...|          true|76561198880072832|       1647297101|       1647297101|    true|          0|       0|                  0|                      false|\n",
      "|271590|            0| english| 1647297014|             96|          4|           18058|                    184|            false|       112196380|I used to think t...|          true|76561198880072832|       1647297101|       1647297101|    true|          0|       0|                  0|                      false|\n",
      "|271590|            0| english| 1647297014|             96|          4|           18058|                    184|            false|       112196380|I used to think t...|          true|76561198880072832|       1647297101|       1647297101|    true|          0|       0|                  0|                      false|\n",
      "|271590|            0| english| 1647297014|             96|          4|           18058|                    184|            false|       112196380|I used to think t...|          true|76561198880072832|       1647297101|       1647297101|    true|          0|       0|                  0|                      false|\n",
      "+------+-------------+--------+-----------+---------------+-----------+----------------+-----------------------+-----------------+----------------+--------------------+--------------+-----------------+-----------------+-----------------+--------+-----------+--------+-------------------+---------------------------+\n",
      "only showing top 5 rows\n",
      "\n"
     ]
    }
   ],
   "source": [
    "df.show(5)"
   ]
  },
  {
   "cell_type": "code",
   "execution_count": 52,
   "id": "eb92a554-a7a0-451a-86d3-a3292f6078e5",
   "metadata": {},
   "outputs": [
    {
     "data": {
      "text/plain": [
       "DataFrame[appid: string, comment_count: bigint, language: string, last_played: string, num_games_owned: bigint, num_reviews: bigint, playtime_forever: bigint, playtime_last_two_weeks: bigint, received_for_free: boolean, recommendationid: string, review: string, steam_purchase: boolean, steamid: string, timestamp_created: bigint, timestamp_updated: bigint, voted_up: boolean, votes_funny: bigint, votes_up: bigint, weighted_vote_score: string, written_during_early_access: boolean]"
      ]
     },
     "execution_count": 52,
     "metadata": {},
     "output_type": "execute_result"
    }
   ],
   "source": [
    "from pyspark.sql import functions as f\n",
    "from pyspark.sql import types as t\n",
    "df.withColumn('last_played', f.date_format(df.last_played.cast(dataType=t.TimestampType()), \"yyyy-MM-dd\"))"
   ]
  },
  {
   "cell_type": "code",
   "execution_count": 53,
   "id": "7075cae6",
   "metadata": {},
   "outputs": [
    {
     "name": "stdout",
     "output_type": "stream",
     "text": [
      "+------+-------------+--------+-----------+---------------+-----------+----------------+-----------------------+-----------------+----------------+--------------------+--------------+-----------------+-----------------+-----------------+--------+-----------+--------+-------------------+---------------------------+\n",
      "| appid|comment_count|language|last_played|num_games_owned|num_reviews|playtime_forever|playtime_last_two_weeks|received_for_free|recommendationid|              review|steam_purchase|          steamid|timestamp_created|timestamp_updated|voted_up|votes_funny|votes_up|weighted_vote_score|written_during_early_access|\n",
      "+------+-------------+--------+-----------+---------------+-----------+----------------+-----------------------+-----------------+----------------+--------------------+--------------+-----------------+-----------------+-----------------+--------+-----------+--------+-------------------+---------------------------+\n",
      "|271590|            0| english| 1647297014|             96|          4|           18058|                    184|            false|       112196380|I used to think t...|          true|76561198880072832|       1647297101|       1647297101|    true|          0|       0|                  0|                      false|\n",
      "+------+-------------+--------+-----------+---------------+-----------+----------------+-----------------------+-----------------+----------------+--------------------+--------------+-----------------+-----------------+-----------------+--------+-----------+--------+-------------------+---------------------------+\n",
      "only showing top 1 row\n",
      "\n"
     ]
    }
   ],
   "source": [
    "df.show(1)"
   ]
  },
  {
   "cell_type": "code",
   "execution_count": 54,
   "id": "fef7c3e9",
   "metadata": {},
   "outputs": [
    {
     "data": {
      "text/plain": [
       "DataFrame[appid: string, comment_count: bigint, language: string, last_played: date, num_games_owned: bigint, num_reviews: bigint, playtime_forever: bigint, playtime_last_two_weeks: bigint, received_for_free: boolean, recommendationid: string, review: string, steam_purchase: boolean, steamid: string, timestamp_created: bigint, timestamp_updated: bigint, voted_up: boolean, votes_funny: bigint, votes_up: bigint, weighted_vote_score: string, written_during_early_access: boolean]"
      ]
     },
     "execution_count": 54,
     "metadata": {},
     "output_type": "execute_result"
    }
   ],
   "source": [
    "df.withColumn('last_played', f.to_date(df.last_played.cast(dataType=t.TimestampType())))"
   ]
  },
  {
   "cell_type": "code",
   "execution_count": 55,
   "id": "96d33c0d",
   "metadata": {},
   "outputs": [
    {
     "name": "stdout",
     "output_type": "stream",
     "text": [
      "+------+-------------+--------+-----------+---------------+-----------+----------------+-----------------------+-----------------+----------------+--------------------+--------------+-----------------+-----------------+-----------------+--------+-----------+--------+-------------------+---------------------------+\n",
      "| appid|comment_count|language|last_played|num_games_owned|num_reviews|playtime_forever|playtime_last_two_weeks|received_for_free|recommendationid|              review|steam_purchase|          steamid|timestamp_created|timestamp_updated|voted_up|votes_funny|votes_up|weighted_vote_score|written_during_early_access|\n",
      "+------+-------------+--------+-----------+---------------+-----------+----------------+-----------------------+-----------------+----------------+--------------------+--------------+-----------------+-----------------+-----------------+--------+-----------+--------+-------------------+---------------------------+\n",
      "|271590|            0| english| 1647297014|             96|          4|           18058|                    184|            false|       112196380|I used to think t...|          true|76561198880072832|       1647297101|       1647297101|    true|          0|       0|                  0|                      false|\n",
      "+------+-------------+--------+-----------+---------------+-----------+----------------+-----------------------+-----------------+----------------+--------------------+--------------+-----------------+-----------------+-----------------+--------+-----------+--------+-------------------+---------------------------+\n",
      "only showing top 1 row\n",
      "\n"
     ]
    }
   ],
   "source": [
    "df.show(1)"
   ]
  },
  {
   "cell_type": "code",
   "execution_count": 58,
   "id": "aa359072",
   "metadata": {},
   "outputs": [],
   "source": [
    "from pyspark.sql import functions as f\n",
    "from pyspark.sql.functions import col,lit\n",
    "from datetime import datetime\n",
    "\n",
    "df002 = df.withColumn(\"last_played\",f.to_timestamp(df['last_played']))\n",
    "    "
   ]
  },
  {
   "cell_type": "code",
   "execution_count": 60,
   "id": "8e627129",
   "metadata": {},
   "outputs": [
    {
     "name": "stdout",
     "output_type": "stream",
     "text": [
      "+------+-------------+--------+-------------------+---------------+-----------+----------------+-----------------------+-----------------+----------------+--------------------+--------------+-----------------+-----------------+-----------------+--------+-----------+--------+-------------------+---------------------------+\n",
      "| appid|comment_count|language|        last_played|num_games_owned|num_reviews|playtime_forever|playtime_last_two_weeks|received_for_free|recommendationid|              review|steam_purchase|          steamid|timestamp_created|timestamp_updated|voted_up|votes_funny|votes_up|weighted_vote_score|written_during_early_access|\n",
      "+------+-------------+--------+-------------------+---------------+-----------+----------------+-----------------------+-----------------+----------------+--------------------+--------------+-----------------+-----------------+-----------------+--------+-----------+--------+-------------------+---------------------------+\n",
      "|271590|            0| english|2022-03-14 15:30:14|             96|          4|           18058|                    184|            false|       112196380|I used to think t...|          true|76561198880072832|       1647297101|       1647297101|    true|          0|       0|                  0|                      false|\n",
      "|271590|            0| english|2022-03-14 15:30:14|             96|          4|           18058|                    184|            false|       112196380|I used to think t...|          true|76561198880072832|       1647297101|       1647297101|    true|          0|       0|                  0|                      false|\n",
      "+------+-------------+--------+-------------------+---------------+-----------+----------------+-----------------------+-----------------+----------------+--------------------+--------------+-----------------+-----------------+-----------------+--------+-----------+--------+-------------------+---------------------------+\n",
      "only showing top 2 rows\n",
      "\n"
     ]
    }
   ],
   "source": [
    "df002.show(2)"
   ]
  },
  {
   "cell_type": "code",
   "execution_count": null,
   "id": "20e1cfc3",
   "metadata": {},
   "outputs": [],
   "source": []
  }
 ],
 "metadata": {
  "kernelspec": {
   "display_name": "Python 3 (ipykernel)",
   "language": "python",
   "name": "python3"
  },
  "language_info": {
   "codemirror_mode": {
    "name": "ipython",
    "version": 3
   },
   "file_extension": ".py",
   "mimetype": "text/x-python",
   "name": "python",
   "nbconvert_exporter": "python",
   "pygments_lexer": "ipython3",
   "version": "3.8.10"
  }
 },
 "nbformat": 4,
 "nbformat_minor": 5
}
