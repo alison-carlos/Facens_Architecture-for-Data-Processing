{
 "cells": [
  {
   "cell_type": "markdown",
   "id": "23da38f9-3de8-46a8-b19b-33fc939ef064",
   "metadata": {},
   "source": [
    "# Objetivo: Ajustar extensão dos arquivos"
   ]
  },
  {
   "cell_type": "code",
   "execution_count": 25,
   "id": "02be73d7-30fe-49d2-9b7b-0f5be3a60d6f",
   "metadata": {},
   "outputs": [],
   "source": [
    "from minio import Minio\n",
    "from minio.error import *\n",
    "import boto3\n",
    "from io import BytesIO\n",
    "\n",
    "from minio.commonconfig import REPLACE, CopySource\n",
    "\n",
    "host = 'localhost:9000'\n",
    "access_key = 'minio'\n",
    "secret_key = 'miniostorage'\n",
    "\n",
    "client = Minio(host, access_key=access_key,\n",
    "                    secret_key=secret_key, secure=False)"
   ]
  },
  {
   "cell_type": "code",
   "execution_count": 30,
   "id": "7f8ea82f-898b-4d20-b84a-f067b82cd99e",
   "metadata": {},
   "outputs": [],
   "source": [
    "# List objects information whose names starts with \"steam\".\n",
    "objects = client.list_objects(\"bronze\", prefix=\"topics/steam/partition=0/\")\n",
    "\n",
    "for obj in objects:\n",
    "    \n",
    "    objectName = obj.object_name\n",
    "    objectName = objectName.replace('.bin', '.json')\n",
    "    \n",
    "    if '.json' not in obj.object_name:\n",
    "        \n",
    "        result = client.copy_object(\n",
    "            \"bronze\",\n",
    "            objectName,\n",
    "            CopySource(\"bronze\", obj.object_name),\n",
    "        )\n",
    "\n",
    "        client.remove_object(\"bronze\", obj.object_name)"
   ]
  }
 ],
 "metadata": {
  "kernelspec": {
   "display_name": "Python 3 (ipykernel)",
   "language": "python",
   "name": "python3"
  },
  "language_info": {
   "codemirror_mode": {
    "name": "ipython",
    "version": 3
   },
   "file_extension": ".py",
   "mimetype": "text/x-python",
   "name": "python",
   "nbconvert_exporter": "python",
   "pygments_lexer": "ipython3",
   "version": "3.8.10"
  }
 },
 "nbformat": 4,
 "nbformat_minor": 5
}
