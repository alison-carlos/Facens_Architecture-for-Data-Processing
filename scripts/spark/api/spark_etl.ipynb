{
 "cells": [
  {
   "cell_type": "markdown",
   "id": "f6ce18a2-e43b-404e-8c03-85a35f220d05",
   "metadata": {},
   "source": [
    "<h2>Importando bibliotecas</h2>"
   ]
  },
  {
   "cell_type": "code",
   "execution_count": 1,
   "id": "f8755f2b-29f5-411d-91ed-3cd645ae0932",
   "metadata": {},
   "outputs": [],
   "source": [
    "import findspark\n",
    "findspark.init()\n",
    "import pyspark\n"
   ]
  },
  {
   "cell_type": "code",
   "execution_count": 2,
   "id": "1b10d3d7-9ec4-4a0a-9a35-4e69ce10e91c",
   "metadata": {},
   "outputs": [],
   "source": [
    "from pyspark import SparkContext\n",
    "from pyspark.sql import SparkSession"
   ]
  },
  {
   "cell_type": "code",
   "execution_count": 3,
   "id": "a338783b-5f04-41e4-8799-abf0962f065b",
   "metadata": {},
   "outputs": [
    {
     "name": "stderr",
     "output_type": "stream",
     "text": [
      "WARNING:root:'PYARROW_IGNORE_TIMEZONE' environment variable was not set. It is required to set this environment variable to '1' in both driver and executor sides if you use pyarrow>=2.0.0. pandas-on-Spark will set it for you but it does not work if there is a Spark context already launched.\n"
     ]
    }
   ],
   "source": [
    "import pandas as pd\n",
    "import pyspark.pandas as ps"
   ]
  },
  {
   "cell_type": "markdown",
   "id": "eafddd73-01b2-42da-af78-4408df23840f",
   "metadata": {},
   "source": [
    "<h2> Criando sessão do spark + configurações de conexão com bucket </h2>"
   ]
  },
  {
   "cell_type": "code",
   "execution_count": 4,
   "id": "adb7a61b-cffc-4d7c-a96f-c3f3d176b675",
   "metadata": {},
   "outputs": [
    {
     "name": "stderr",
     "output_type": "stream",
     "text": [
      "22/04/10 11:51:43 WARN Utils: Your hostname, moon resolves to a loopback address: 127.0.1.1; using 192.168.0.185 instead (on interface wlo1)\n",
      "22/04/10 11:51:43 WARN Utils: Set SPARK_LOCAL_IP if you need to bind to another address\n",
      "WARNING: An illegal reflective access operation has occurred\n",
      "WARNING: Illegal reflective access by org.apache.spark.unsafe.Platform (file:/opt/spark/jars/spark-unsafe_2.12-3.2.1.jar) to constructor java.nio.DirectByteBuffer(long,int)\n",
      "WARNING: Please consider reporting this to the maintainers of org.apache.spark.unsafe.Platform\n",
      "WARNING: Use --illegal-access=warn to enable warnings of further illegal reflective access operations\n",
      "WARNING: All illegal access operations will be denied in a future release\n",
      "Using Spark's default log4j profile: org/apache/spark/log4j-defaults.properties\n",
      "Setting default log level to \"WARN\".\n",
      "To adjust logging level use sc.setLogLevel(newLevel). For SparkR, use setLogLevel(newLevel).\n",
      "22/04/10 11:51:44 WARN NativeCodeLoader: Unable to load native-hadoop library for your platform... using builtin-java classes where applicable\n"
     ]
    }
   ],
   "source": [
    "spark = SparkSession.builder.appName('Steam API - Tratamento').getOrCreate()"
   ]
  },
  {
   "cell_type": "code",
   "execution_count": 5,
   "id": "d0d44084-3487-4232-ac3b-6a216ee50320",
   "metadata": {},
   "outputs": [],
   "source": [
    "def load_config(spark_context: SparkContext):\n",
    "    spark_context._jsc.hadoopConfiguration().set('fs.s3a.aws.credentials.provider', 'com.amazonaws.auth.EnvironmentVariableCredentialsProvider')\n",
    "    spark_context._jsc.hadoopConfiguration().set('fs.s3a.path.style.access', 'true')\n",
    "    spark_context._jsc.hadoopConfiguration().set('fs.s3a.impl', 'org.apache.hadoop.fs.s3a.S3AFileSystem')\n",
    "    spark_context._jsc.hadoopConfiguration().set('fs.s3a.endpoint', 'http://localhost:9000')\n",
    "    spark_context._jsc.hadoopConfiguration().set('fs.s3a.connection.ssl.enabled', 'false')\n",
    "    \n",
    "load_config(spark.sparkContext)\n"
   ]
  },
  {
   "cell_type": "markdown",
   "id": "6838402d-8041-4693-959d-774a82a4855a",
   "metadata": {},
   "source": [
    "<h2> Lendo dados do bucket </h2>"
   ]
  },
  {
   "cell_type": "code",
   "execution_count": 6,
   "id": "ea85cdb5-2beb-4098-b7c8-c6b25009d8d4",
   "metadata": {},
   "outputs": [
    {
     "name": "stderr",
     "output_type": "stream",
     "text": [
      "22/04/10 11:51:54 WARN MetricsConfig: Cannot locate configuration: tried hadoop-metrics2-s3a-file-system.properties,hadoop-metrics2.properties\n",
      "                                                                                \r"
     ]
    }
   ],
   "source": [
    "df = spark.read.json('s3a://bronze/topics/steam/*', multiLine=True)"
   ]
  },
  {
   "cell_type": "code",
   "execution_count": 7,
   "id": "94785fb7-4182-4420-9d57-b533b067f0a8",
   "metadata": {},
   "outputs": [
    {
     "name": "stdout",
     "output_type": "stream",
     "text": [
      "root\n",
      " |-- appid: string (nullable = true)\n",
      " |-- comment_count: long (nullable = true)\n",
      " |-- language: string (nullable = true)\n",
      " |-- last_played: long (nullable = true)\n",
      " |-- num_games_owned: long (nullable = true)\n",
      " |-- num_reviews: long (nullable = true)\n",
      " |-- playtime_forever: long (nullable = true)\n",
      " |-- playtime_last_two_weeks: long (nullable = true)\n",
      " |-- received_for_free: boolean (nullable = true)\n",
      " |-- recommendationid: string (nullable = true)\n",
      " |-- review: string (nullable = true)\n",
      " |-- steam_purchase: boolean (nullable = true)\n",
      " |-- steamid: string (nullable = true)\n",
      " |-- timestamp_created: long (nullable = true)\n",
      " |-- timestamp_updated: long (nullable = true)\n",
      " |-- voted_up: boolean (nullable = true)\n",
      " |-- votes_funny: long (nullable = true)\n",
      " |-- votes_up: long (nullable = true)\n",
      " |-- weighted_vote_score: string (nullable = true)\n",
      " |-- written_during_early_access: boolean (nullable = true)\n",
      "\n"
     ]
    }
   ],
   "source": [
    "df.printSchema()"
   ]
  },
  {
   "cell_type": "code",
   "execution_count": 8,
   "id": "e9eecdc0-69ab-4d7c-b399-068fcef34c57",
   "metadata": {},
   "outputs": [
    {
     "name": "stderr",
     "output_type": "stream",
     "text": [
      "                                                                                \r"
     ]
    },
    {
     "data": {
      "text/plain": [
       "1126"
      ]
     },
     "execution_count": 8,
     "metadata": {},
     "output_type": "execute_result"
    }
   ],
   "source": [
    "df.count()"
   ]
  },
  {
   "cell_type": "code",
   "execution_count": 9,
   "id": "1f823fd1-119d-441d-bb28-702dcc82589b",
   "metadata": {},
   "outputs": [],
   "source": [
    "#df = df.to_pandas_on_spark()"
   ]
  },
  {
   "cell_type": "code",
   "execution_count": 10,
   "id": "1cacd05f-ccac-45c2-b54a-f794cccf3dea",
   "metadata": {},
   "outputs": [
    {
     "name": "stdout",
     "output_type": "stream",
     "text": [
      "+-------+-------------+--------+-----------+---------------+-----------+----------------+-----------------------+-----------------+----------------+---------+--------------+-----------------+-----------------+-----------------+--------+-----------+--------+-------------------+---------------------------+\n",
      "|  appid|comment_count|language|last_played|num_games_owned|num_reviews|playtime_forever|playtime_last_two_weeks|received_for_free|recommendationid|   review|steam_purchase|          steamid|timestamp_created|timestamp_updated|voted_up|votes_funny|votes_up|weighted_vote_score|written_during_early_access|\n",
      "+-------+-------------+--------+-----------+---------------+-----------+----------------+-----------------------+-----------------+----------------+---------+--------------+-----------------+-----------------+-----------------+--------+-----------+--------+-------------------+---------------------------+\n",
      "|1017900|            0| english| 1568914559|             67|          1|            5035|                      0|            false|        55186762|Nostalgic|          true|76561198011238275|       1568915638|       1568915638|    true|          0|       1|0.49253728985786438|                      false|\n",
      "+-------+-------------+--------+-----------+---------------+-----------+----------------+-----------------------+-----------------+----------------+---------+--------------+-----------------+-----------------+-----------------+--------+-----------+--------+-------------------+---------------------------+\n",
      "only showing top 1 row\n",
      "\n"
     ]
    }
   ],
   "source": [
    "df.show(1, truncate=True)"
   ]
  },
  {
   "cell_type": "markdown",
   "id": "59ef149b",
   "metadata": {},
   "source": [
    "### Convertendo de timestamp UNIX para datetime"
   ]
  },
  {
   "cell_type": "code",
   "execution_count": 11,
   "id": "eb92a554-a7a0-451a-86d3-a3292f6078e5",
   "metadata": {},
   "outputs": [],
   "source": [
    "from pyspark.sql import functions as f\n",
    "from pyspark.sql import types as t\n",
    "from datetime import datetime"
   ]
  },
  {
   "cell_type": "code",
   "execution_count": 12,
   "id": "ffc787ab",
   "metadata": {},
   "outputs": [
    {
     "data": {
      "text/plain": [
       "DataFrame[appid: string, comment_count: bigint, language: string, last_played: string, num_games_owned: bigint, num_reviews: bigint, playtime_forever: bigint, playtime_last_two_weeks: bigint, received_for_free: boolean, recommendationid: string, review: string, steam_purchase: boolean, steamid: string, timestamp_created: string, timestamp_updated: string, voted_up: boolean, votes_funny: bigint, votes_up: bigint, weighted_vote_score: string, written_during_early_access: boolean]"
      ]
     },
     "execution_count": 12,
     "metadata": {},
     "output_type": "execute_result"
    }
   ],
   "source": [
    "df.withColumn('last_played', f.date_format(df.last_played.cast(dataType=t.TimestampType()), \"yyyy-MM-dd\")) \\\n",
    "  .withColumn('timestamp_created', f.date_format(df.timestamp_created.cast(dataType=t.TimestampType()), \"yyyy-MM-dd\")) \\\n",
    "  .withColumn('timestamp_updated', f.date_format(df.timestamp_updated.cast(dataType=t.TimestampType()), \"yyyy-MM-dd\"))"
   ]
  },
  {
   "cell_type": "code",
   "execution_count": 13,
   "id": "fef7c3e9",
   "metadata": {},
   "outputs": [],
   "source": [
    "df2 = df.withColumn('last_played', f.to_date(df.last_played.cast(dataType=t.TimestampType()))) \\\n",
    "        .withColumn('timestamp_created', f.to_date(df.timestamp_created.cast(dataType=t.TimestampType()))) \\\n",
    "        .withColumn('timestamp_updated', f.to_date(df.timestamp_updated.cast(dataType=t.TimestampType())))"
   ]
  },
  {
   "cell_type": "code",
   "execution_count": 14,
   "id": "aa359072",
   "metadata": {},
   "outputs": [],
   "source": [
    "df2 = df2.withColumn(\"last_played\",f.to_timestamp(df2['last_played'])) \\\n",
    "         .withColumn(\"timestamp_created\",f.to_timestamp(df2['timestamp_created'])) \\\n",
    "         .withColumn(\"timestamp_updated\",f.to_timestamp(df2['timestamp_updated']))\n",
    "\n",
    "    "
   ]
  },
  {
   "cell_type": "markdown",
   "id": "02410c1d-4992-42a8-ae64-1d14eccf9105",
   "metadata": {},
   "source": [
    "### Removendo possíveis registros duplicados"
   ]
  },
  {
   "cell_type": "code",
   "execution_count": 15,
   "id": "d32ac17b",
   "metadata": {},
   "outputs": [],
   "source": [
    "df3 = df2.drop_duplicates()"
   ]
  },
  {
   "cell_type": "markdown",
   "id": "f39129f5-9000-4ed5-8db8-8d93efe387c8",
   "metadata": {},
   "source": [
    " "
   ]
  },
  {
   "cell_type": "markdown",
   "id": "ef68b94a-5631-4abf-a58a-d21ba05ff9b5",
   "metadata": {},
   "source": [
    "### Filtrando colunas de interesse"
   ]
  },
  {
   "cell_type": "code",
   "execution_count": 16,
   "id": "a627c2de-e7a8-4d3f-b2d0-53e6c8385a19",
   "metadata": {},
   "outputs": [],
   "source": [
    "df4 = df3.select('appid', 'recommendationid', 'steamid', 'language', 'last_played', 'num_games_owned', 'playtime_forever', 'review', 'voted_up', 'votes_up','timestamp_created')"
   ]
  },
  {
   "cell_type": "code",
   "execution_count": 25,
   "id": "d4b0215d-6c0d-4808-b6f6-6caa237c6182",
   "metadata": {},
   "outputs": [
    {
     "name": "stdout",
     "output_type": "stream",
     "text": [
      "+-------+----------------+-----------------+--------+-------------------+---------------+----------------+--------------------+--------+--------+-------------------+\n",
      "| app_id|recommendationid|          steamid|language|        last_played|num_games_owned|playtime_forever|              review|voted_up|votes_up|  timestamp_created|\n",
      "+-------+----------------+-----------------+--------+-------------------+---------------+----------------+--------------------+--------+--------+-------------------+\n",
      "|1015500|        90685572|76561198201763581| english|2021-04-29 00:00:00|              5|             651|        scam from 2k|   false|       1|2021-04-21 00:00:00|\n",
      "|1015500|       107413102|76561199229448403| english|2022-03-13 00:00:00|              2|            3608|           Good game|    true|       0|2022-01-05 00:00:00|\n",
      "|1017900|        54708253|76561198093812035| english|2022-03-05 00:00:00|            254|             126|The game is dope ...|    true|       0|2019-08-19 00:00:00|\n",
      "|1015500|        66995480|76561199030883301| english|2020-05-17 00:00:00|             19|            2513|highly great grap...|    true|       0|2020-04-09 00:00:00|\n",
      "|1017900|        94771019|76561199068344698| english|2021-12-01 00:00:00|             48|            3936|Really good remas...|    true|       0|2021-06-30 00:00:00|\n",
      "|1015500|        56206849|76561198826961735| english|2020-05-14 00:00:00|             24|             469|I had high hopes ...|   false|       0|2019-11-01 00:00:00|\n",
      "|1015500|       102182095|76561198092626963| english|2021-11-03 00:00:00|            122|            1049|          Just Trash|   false|       1|2021-11-03 00:00:00|\n",
      "|1015500|        56190447|76561198076200049| english|2019-10-29 00:00:00|            170|             193|Worthless company...|   false|       1|2019-11-01 00:00:00|\n",
      "|1017900|       106524101|76561198092773706| english|2021-12-25 00:00:00|            156|             200|Вы конечно можете...|   false|       0|2021-12-25 00:00:00|\n",
      "|1017900|        81922610|76561198069643791| english|2020-12-09 00:00:00|            341|             254|watched units get...|   false|       1|2020-12-09 00:00:00|\n",
      "|1017900|        55186762|76561198011238275| english|2019-09-19 00:00:00|             67|            5035|           Nostalgic|    true|       1|2019-09-19 00:00:00|\n",
      "|1015500|        88742273|76561198854843321| english|2022-02-22 00:00:00|             40|            5245|not that good 2k1...|   false|       0|2021-03-20 00:00:00|\n",
      "|1015500|       100604226|76561199127895467| english|2022-03-17 00:00:00|              6|            2647|The game kept on ...|   false|       0|2021-10-06 00:00:00|\n",
      "|1017900|        66618119|76561198844333405| english|2021-12-29 00:00:00|             27|             375|Ah this bring bac...|    true|       9|2020-04-04 00:00:00|\n",
      "|1017900|        54948359|76561198043693378| english|2019-09-03 00:00:00|           1246|            3614|Good Remaster of ...|    true|      52|2019-09-03 00:00:00|\n",
      "|1015500|        55714711|76561198008213866| english|2021-08-24 00:00:00|            465|            3095|*UPDATE* im doing...|   false|      12|2019-10-22 00:00:00|\n",
      "|1017900|        85709553|76561198260692125| english|2021-12-31 00:00:00|             18|            1420|The graphics are ...|    true|       0|2021-01-31 00:00:00|\n",
      "|1017900|        54870403|76561198064268501| english|2021-07-02 00:00:00|           1037|            2140|[h1]The real wolo...|    true|     142|2019-08-29 00:00:00|\n",
      "|1015500|        55851765|76561198303863548| english|2021-10-30 00:00:00|            146|            4063|i think i judge i...|    true|       0|2019-10-28 00:00:00|\n",
      "|1015500|       102719552|76561199076388188| english|2022-03-07 00:00:00|             20|            6814|i reccomend this ...|   false|       0|2021-11-13 00:00:00|\n",
      "+-------+----------------+-----------------+--------+-------------------+---------------+----------------+--------------------+--------+--------+-------------------+\n",
      "only showing top 20 rows\n",
      "\n"
     ]
    },
    {
     "name": "stderr",
     "output_type": "stream",
     "text": [
      "                                                                                \r"
     ]
    }
   ],
   "source": [
    "df4.show()"
   ]
  },
  {
   "cell_type": "code",
   "execution_count": 20,
   "id": "90dfbd75-46b7-4981-b7cc-970411ba5898",
   "metadata": {},
   "outputs": [],
   "source": [
    "df4 = df4.withColumnRenamed('appid', 'app_id')"
   ]
  },
  {
   "cell_type": "markdown",
   "id": "1e9990ff-5e79-4030-9d20-b817c330996d",
   "metadata": {},
   "source": [
    "## Salvando dados tratados no Silver"
   ]
  },
  {
   "cell_type": "code",
   "execution_count": 23,
   "id": "bf85b6c3-e4f1-45aa-b241-fd791e7c49b9",
   "metadata": {},
   "outputs": [],
   "source": [
    "#df4.write.partitionBy('appid').mode('overwrite').parquet('s3a://silver/steam_reviews/reviews.parquet')\n",
    "\n",
    "df4.write.partitionBy('app_id').mode('append').parquet('s3a://silver/steam_reviews/reviews.parquet')"
   ]
  },
  {
   "cell_type": "markdown",
   "id": "920e9645-e339-4b2b-ba10-dd4a564c7b6f",
   "metadata": {},
   "source": [
    "# Movendo arquivos que foram lidos para pasta de processados."
   ]
  },
  {
   "cell_type": "code",
   "execution_count": null,
   "id": "107fb8a2-6a18-46ab-a8dc-cb9cd0fbff11",
   "metadata": {},
   "outputs": [],
   "source": []
  }
 ],
 "metadata": {
  "kernelspec": {
   "display_name": "Python 3 (ipykernel)",
   "language": "python",
   "name": "python3"
  },
  "language_info": {
   "codemirror_mode": {
    "name": "ipython",
    "version": 3
   },
   "file_extension": ".py",
   "mimetype": "text/x-python",
   "name": "python",
   "nbconvert_exporter": "python",
   "pygments_lexer": "ipython3",
   "version": "3.8.10"
  }
 },
 "nbformat": 4,
 "nbformat_minor": 5
}
