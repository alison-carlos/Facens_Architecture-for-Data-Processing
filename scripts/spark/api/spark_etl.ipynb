{
 "cells": [
  {
   "cell_type": "markdown",
   "id": "f6ce18a2-e43b-404e-8c03-85a35f220d05",
   "metadata": {},
   "source": [
    "<h2>Importando bibliotecas</h2>"
   ]
  },
  {
   "cell_type": "code",
   "execution_count": 1,
   "id": "f8755f2b-29f5-411d-91ed-3cd645ae0932",
   "metadata": {},
   "outputs": [],
   "source": [
    "import findspark\n",
    "findspark.init()\n",
    "import pyspark\n"
   ]
  },
  {
   "cell_type": "code",
   "execution_count": 2,
   "id": "1b10d3d7-9ec4-4a0a-9a35-4e69ce10e91c",
   "metadata": {},
   "outputs": [],
   "source": [
    "from pyspark import SparkContext\n",
    "from pyspark.sql import SparkSession"
   ]
  },
  {
   "cell_type": "code",
   "execution_count": 3,
   "id": "a338783b-5f04-41e4-8799-abf0962f065b",
   "metadata": {},
   "outputs": [
    {
     "name": "stderr",
     "output_type": "stream",
     "text": [
      "WARNING:root:'PYARROW_IGNORE_TIMEZONE' environment variable was not set. It is required to set this environment variable to '1' in both driver and executor sides if you use pyarrow>=2.0.0. pandas-on-Spark will set it for you but it does not work if there is a Spark context already launched.\n"
     ]
    }
   ],
   "source": [
    "import pandas as pd\n",
    "import pyspark.pandas as ps"
   ]
  },
  {
   "cell_type": "markdown",
   "id": "eafddd73-01b2-42da-af78-4408df23840f",
   "metadata": {},
   "source": [
    "<h2> Criando sessão do spark + configurações de conexão com bucket </h2>"
   ]
  },
  {
   "cell_type": "code",
   "execution_count": 4,
   "id": "adb7a61b-cffc-4d7c-a96f-c3f3d176b675",
   "metadata": {},
   "outputs": [
    {
     "name": "stderr",
     "output_type": "stream",
     "text": [
      "22/03/15 21:18:22 WARN Utils: Your hostname, moon resolves to a loopback address: 127.0.1.1; using 192.168.0.185 instead (on interface wlo1)\n",
      "22/03/15 21:18:22 WARN Utils: Set SPARK_LOCAL_IP if you need to bind to another address\n",
      "WARNING: An illegal reflective access operation has occurred\n",
      "WARNING: Illegal reflective access by org.apache.spark.unsafe.Platform (file:/opt/spark/jars/spark-unsafe_2.12-3.2.1.jar) to constructor java.nio.DirectByteBuffer(long,int)\n",
      "WARNING: Please consider reporting this to the maintainers of org.apache.spark.unsafe.Platform\n",
      "WARNING: Use --illegal-access=warn to enable warnings of further illegal reflective access operations\n",
      "WARNING: All illegal access operations will be denied in a future release\n",
      "Using Spark's default log4j profile: org/apache/spark/log4j-defaults.properties\n",
      "Setting default log level to \"WARN\".\n",
      "To adjust logging level use sc.setLogLevel(newLevel). For SparkR, use setLogLevel(newLevel).\n",
      "22/03/15 21:18:23 WARN NativeCodeLoader: Unable to load native-hadoop library for your platform... using builtin-java classes where applicable\n"
     ]
    }
   ],
   "source": [
    "spark = SparkSession.builder.appName('Steam API - Tratamento').getOrCreate()"
   ]
  },
  {
   "cell_type": "code",
   "execution_count": 5,
   "id": "d0d44084-3487-4232-ac3b-6a216ee50320",
   "metadata": {},
   "outputs": [],
   "source": [
    "def load_config(spark_context: SparkContext):\n",
    "    spark_context._jsc.hadoopConfiguration().set('fs.s3a.aws.credentials.provider', 'com.amazonaws.auth.EnvironmentVariableCredentialsProvider')\n",
    "    spark_context._jsc.hadoopConfiguration().set('fs.s3a.path.style.access', 'true')\n",
    "    spark_context._jsc.hadoopConfiguration().set('fs.s3a.impl', 'org.apache.hadoop.fs.s3a.S3AFileSystem')\n",
    "    spark_context._jsc.hadoopConfiguration().set('fs.s3a.endpoint', 'http://localhost:9000')\n",
    "    spark_context._jsc.hadoopConfiguration().set('fs.s3a.connection.ssl.enabled', 'false')\n",
    "    \n",
    "load_config(spark.sparkContext)\n"
   ]
  },
  {
   "cell_type": "markdown",
   "id": "6838402d-8041-4693-959d-774a82a4855a",
   "metadata": {},
   "source": [
    "<h2> Lendo dados do bucket </h2>"
   ]
  },
  {
   "cell_type": "code",
   "execution_count": 6,
   "id": "ea85cdb5-2beb-4098-b7c8-c6b25009d8d4",
   "metadata": {},
   "outputs": [
    {
     "name": "stderr",
     "output_type": "stream",
     "text": [
      "22/03/15 21:18:25 WARN MetricsConfig: Cannot locate configuration: tried hadoop-metrics2-s3a-file-system.properties,hadoop-metrics2.properties\n",
      "                                                                                \r"
     ]
    }
   ],
   "source": [
    "df = spark.read.json('s3a://bronze/topics/steam/*', multiLine=True)"
   ]
  },
  {
   "cell_type": "code",
   "execution_count": 7,
   "id": "94785fb7-4182-4420-9d57-b533b067f0a8",
   "metadata": {},
   "outputs": [
    {
     "name": "stdout",
     "output_type": "stream",
     "text": [
      "root\n",
      " |-- appid: string (nullable = true)\n",
      " |-- comment_count: long (nullable = true)\n",
      " |-- language: string (nullable = true)\n",
      " |-- last_played: long (nullable = true)\n",
      " |-- num_games_owned: long (nullable = true)\n",
      " |-- num_reviews: long (nullable = true)\n",
      " |-- playtime_forever: long (nullable = true)\n",
      " |-- playtime_last_two_weeks: long (nullable = true)\n",
      " |-- received_for_free: boolean (nullable = true)\n",
      " |-- recommendationid: string (nullable = true)\n",
      " |-- review: string (nullable = true)\n",
      " |-- steam_purchase: boolean (nullable = true)\n",
      " |-- steamid: string (nullable = true)\n",
      " |-- timestamp_created: long (nullable = true)\n",
      " |-- timestamp_updated: long (nullable = true)\n",
      " |-- voted_up: boolean (nullable = true)\n",
      " |-- votes_funny: long (nullable = true)\n",
      " |-- votes_up: long (nullable = true)\n",
      " |-- weighted_vote_score: string (nullable = true)\n",
      " |-- written_during_early_access: boolean (nullable = true)\n",
      "\n"
     ]
    }
   ],
   "source": [
    "df.printSchema()"
   ]
  },
  {
   "cell_type": "code",
   "execution_count": 8,
   "id": "e9eecdc0-69ab-4d7c-b399-068fcef34c57",
   "metadata": {},
   "outputs": [
    {
     "data": {
      "text/plain": [
       "87"
      ]
     },
     "execution_count": 8,
     "metadata": {},
     "output_type": "execute_result"
    }
   ],
   "source": [
    "df.count()"
   ]
  },
  {
   "cell_type": "code",
   "execution_count": 9,
   "id": "1f823fd1-119d-441d-bb28-702dcc82589b",
   "metadata": {},
   "outputs": [],
   "source": [
    "#df = df.to_pandas_on_spark()"
   ]
  },
  {
   "cell_type": "code",
   "execution_count": 10,
   "id": "1cacd05f-ccac-45c2-b54a-f794cccf3dea",
   "metadata": {},
   "outputs": [
    {
     "name": "stdout",
     "output_type": "stream",
     "text": [
      "+------+-------------+--------+-----------+---------------+-----------+----------------+-----------------------+-----------------+----------------+------+--------------+-----------------+-----------------+-----------------+--------+-----------+--------+-------------------+---------------------------+\n",
      "| appid|comment_count|language|last_played|num_games_owned|num_reviews|playtime_forever|playtime_last_two_weeks|received_for_free|recommendationid|review|steam_purchase|          steamid|timestamp_created|timestamp_updated|voted_up|votes_funny|votes_up|weighted_vote_score|written_during_early_access|\n",
      "+------+-------------+--------+-----------+---------------+-----------+----------------+-----------------------+-----------------+----------------+------+--------------+-----------------+-----------------+-----------------+--------+-----------+--------+-------------------+---------------------------+\n",
      "|271590|            0| english| 1647381998|             47|          6|           33675|                    181|            false|       112258961|   yes|          true|76561198285225287|       1647381961|       1647381961|    true|          0|       0|                  0|                      false|\n",
      "+------+-------------+--------+-----------+---------------+-----------+----------------+-----------------------+-----------------+----------------+------+--------------+-----------------+-----------------+-----------------+--------+-----------+--------+-------------------+---------------------------+\n",
      "only showing top 1 row\n",
      "\n"
     ]
    }
   ],
   "source": [
    "df.show(1, truncate=True)"
   ]
  },
  {
   "cell_type": "markdown",
   "id": "59ef149b",
   "metadata": {},
   "source": [
    "### Convertendo de timestamp UNIX para datetime"
   ]
  },
  {
   "cell_type": "code",
   "execution_count": 11,
   "id": "eb92a554-a7a0-451a-86d3-a3292f6078e5",
   "metadata": {},
   "outputs": [],
   "source": [
    "from pyspark.sql import functions as f\n",
    "from pyspark.sql import types as t\n",
    "from datetime import datetime"
   ]
  },
  {
   "cell_type": "code",
   "execution_count": 12,
   "id": "ffc787ab",
   "metadata": {},
   "outputs": [
    {
     "data": {
      "text/plain": [
       "DataFrame[appid: string, comment_count: bigint, language: string, last_played: string, num_games_owned: bigint, num_reviews: bigint, playtime_forever: bigint, playtime_last_two_weeks: bigint, received_for_free: boolean, recommendationid: string, review: string, steam_purchase: boolean, steamid: string, timestamp_created: string, timestamp_updated: string, voted_up: boolean, votes_funny: bigint, votes_up: bigint, weighted_vote_score: string, written_during_early_access: boolean]"
      ]
     },
     "execution_count": 12,
     "metadata": {},
     "output_type": "execute_result"
    }
   ],
   "source": [
    "df.withColumn('last_played', f.date_format(df.last_played.cast(dataType=t.TimestampType()), \"yyyy-MM-dd\")) \\\n",
    "  .withColumn('timestamp_created', f.date_format(df.timestamp_created.cast(dataType=t.TimestampType()), \"yyyy-MM-dd\")) \\\n",
    "  .withColumn('timestamp_updated', f.date_format(df.timestamp_updated.cast(dataType=t.TimestampType()), \"yyyy-MM-dd\"))"
   ]
  },
  {
   "cell_type": "code",
   "execution_count": 13,
   "id": "fef7c3e9",
   "metadata": {},
   "outputs": [],
   "source": [
    "df2 = df.withColumn('last_played', f.to_date(df.last_played.cast(dataType=t.TimestampType()))) \\\n",
    "        .withColumn('timestamp_created', f.to_date(df.timestamp_created.cast(dataType=t.TimestampType()))) \\\n",
    "        .withColumn('timestamp_updated', f.to_date(df.timestamp_updated.cast(dataType=t.TimestampType())))"
   ]
  },
  {
   "cell_type": "code",
   "execution_count": 14,
   "id": "aa359072",
   "metadata": {},
   "outputs": [],
   "source": [
    "df2 = df2.withColumn(\"last_played\",f.to_timestamp(df2['last_played'])) \\\n",
    "         .withColumn(\"timestamp_created\",f.to_timestamp(df2['timestamp_created'])) \\\n",
    "         .withColumn(\"timestamp_updated\",f.to_timestamp(df2['timestamp_updated']))\n",
    "\n",
    "    "
   ]
  },
  {
   "cell_type": "markdown",
   "id": "02410c1d-4992-42a8-ae64-1d14eccf9105",
   "metadata": {},
   "source": [
    "### Removendo possíveis registros duplicados"
   ]
  },
  {
   "cell_type": "code",
   "execution_count": 15,
   "id": "d32ac17b",
   "metadata": {},
   "outputs": [],
   "source": [
    "df3 = df2.drop_duplicates()"
   ]
  },
  {
   "cell_type": "markdown",
   "id": "f39129f5-9000-4ed5-8db8-8d93efe387c8",
   "metadata": {},
   "source": [
    " "
   ]
  },
  {
   "cell_type": "markdown",
   "id": "ef68b94a-5631-4abf-a58a-d21ba05ff9b5",
   "metadata": {},
   "source": [
    "### Filtrando colunas de interesse"
   ]
  },
  {
   "cell_type": "code",
   "execution_count": 16,
   "id": "a627c2de-e7a8-4d3f-b2d0-53e6c8385a19",
   "metadata": {},
   "outputs": [],
   "source": [
    "df4 = df3.select('appid', 'recommendationid', 'steamid', 'language', 'last_played', 'num_games_owned', 'playtime_forever', 'review', 'voted_up', 'votes_up','timestamp_created')"
   ]
  },
  {
   "cell_type": "code",
   "execution_count": 17,
   "id": "d4b0215d-6c0d-4808-b6f6-6caa237c6182",
   "metadata": {},
   "outputs": [
    {
     "name": "stdout",
     "output_type": "stream",
     "text": [
      "+------+----------------+-----------------+--------+-------------------+---------------+----------------+--------------------+--------+--------+-------------------+\n",
      "| appid|recommendationid|          steamid|language|        last_played|num_games_owned|playtime_forever|              review|voted_up|votes_up|  timestamp_created|\n",
      "+------+----------------+-----------------+--------+-------------------+---------------+----------------+--------------------+--------+--------+-------------------+\n",
      "|271590|       112239162|76561198254536142| english|2022-03-15 00:00:00|             96|             920|Man, even after T...|   false|       3|2022-03-15 00:00:00|\n",
      "|271590|       112253643|76561198307394253| english|2022-03-14 00:00:00|             20|            7868|Rockstar doesnt c...|   false|       0|2022-03-15 00:00:00|\n",
      "|271590|       112240330|76561198449180366| english|2022-03-15 00:00:00|             27|            2535|                isok|    true|       0|2022-03-15 00:00:00|\n",
      "|271590|       112224697|76561198895036802| english|2022-03-15 00:00:00|              9|            3590|This game is fun ...|    true|       0|2022-03-15 00:00:00|\n",
      "|271590|       112234141|76561199104995993| english|2022-03-15 00:00:00|              3|            1502| asasasasasasasasasd|    true|       0|2022-03-15 00:00:00|\n",
      "|271590|       112233874|76561198334718189| english|2022-03-14 00:00:00|             34|           53323|Really good new g...|    true|       0|2022-03-15 00:00:00|\n",
      "|271590|       112258961|76561198285225287| english|2022-03-15 00:00:00|             47|           33675|                 yes|    true|       0|2022-03-15 00:00:00|\n",
      "|271590|       112259208|76561198381083108| english|2022-03-15 00:00:00|              8|            4042|                good|    true|       0|2022-03-15 00:00:00|\n",
      "|271590|       112239166|76561199246889976| english|2022-03-15 00:00:00|              2|            2907|i have isu my gta...|    true|       0|2022-03-15 00:00:00|\n",
      "|271590|       112240806|76561199228006977| english|2022-03-15 00:00:00|              3|             271|               cars.|    true|       0|2022-03-15 00:00:00|\n",
      "|271590|       112253170|76561198309942224| english|2022-03-15 00:00:00|             13|           40170|GTA Is literally ...|    true|       0|2022-03-15 00:00:00|\n",
      "|271590|       112225388|76561198385161187| english|2022-03-13 00:00:00|             40|            9264|         good game\\n|    true|       0|2022-03-15 00:00:00|\n",
      "|271590|       112211879|76561198372142687| english|2022-03-13 00:00:00|             22|           20934|          edrwsdfgsd|    true|       0|2022-03-14 00:00:00|\n",
      "|271590|       112211879|76561198372142687| english|2022-03-15 00:00:00|             22|           20958|          edrwsdfgsd|    true|       0|2022-03-14 00:00:00|\n",
      "|271590|       112223487|76561198147192067| english|               null|             80|            null|You're better off...|   false|       1|2022-03-15 00:00:00|\n",
      "|271590|       112250649|76561198859088129| english|2022-03-15 00:00:00|             26|            4497|Amazing game to p...|    true|       0|2022-03-15 00:00:00|\n",
      "|271590|       112211804|76561199135740036| english|2022-03-13 00:00:00|             30|            8315|This game is so g...|    true|       0|2022-03-14 00:00:00|\n",
      "|271590|       112208633|76561199248926164| english|2022-03-14 00:00:00|              2|             683|I LOVE THIS GAME....|    true|       0|2022-03-14 00:00:00|\n",
      "|271590|       112208633|76561199248926164| english|2022-03-15 00:00:00|              2|             896|I LOVE THIS GAME....|    true|       0|2022-03-14 00:00:00|\n",
      "|271590|       112242854|76561198360527716| english|2022-03-15 00:00:00|             44|           99770|why there are bro...|   false|       2|2022-03-15 00:00:00|\n",
      "+------+----------------+-----------------+--------+-------------------+---------------+----------------+--------------------+--------+--------+-------------------+\n",
      "only showing top 20 rows\n",
      "\n"
     ]
    }
   ],
   "source": [
    "df4.show()"
   ]
  },
  {
   "cell_type": "markdown",
   "id": "1e9990ff-5e79-4030-9d20-b817c330996d",
   "metadata": {},
   "source": [
    "## Salvando dados tratados no Silver"
   ]
  },
  {
   "cell_type": "code",
   "execution_count": 18,
   "id": "bf85b6c3-e4f1-45aa-b241-fd791e7c49b9",
   "metadata": {},
   "outputs": [
    {
     "name": "stderr",
     "output_type": "stream",
     "text": [
      "                                                                                \r"
     ]
    }
   ],
   "source": [
    "df4.write.partitionBy('appid').mode('overwrite').parquet('s3a://silver/steam_reviews/reviews.parquet')"
   ]
  },
  {
   "cell_type": "code",
   "execution_count": null,
   "id": "39f65184-e37e-470a-8864-0959b662c79c",
   "metadata": {},
   "outputs": [],
   "source": []
  }
 ],
 "metadata": {
  "kernelspec": {
   "display_name": "Python 3 (ipykernel)",
   "language": "python",
   "name": "python3"
  },
  "language_info": {
   "codemirror_mode": {
    "name": "ipython",
    "version": 3
   },
   "file_extension": ".py",
   "mimetype": "text/x-python",
   "name": "python",
   "nbconvert_exporter": "python",
   "pygments_lexer": "ipython3",
   "version": "3.8.10"
  }
 },
 "nbformat": 4,
 "nbformat_minor": 5
}
