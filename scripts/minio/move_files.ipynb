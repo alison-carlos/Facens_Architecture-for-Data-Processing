{
 "cells": [
  {
   "cell_type": "code",
   "execution_count": 28,
   "id": "bf8dbee1-3933-4f56-adb9-ccef896145ef",
   "metadata": {},
   "outputs": [],
   "source": [
    "from minio import Minio\n",
    "from minio.error import *\n",
    "import boto3\n",
    "from io import BytesIO\n",
    "\n",
    "from minio.commonconfig import REPLACE, CopySource\n",
    "\n",
    "import logging\n",
    "import time \n",
    "\n",
    "host = 'localhost:9000'\n",
    "access_key = 'minio'\n",
    "secret_key = 'miniostorage'\n",
    "\n",
    "client = Minio(host, access_key=access_key,\n",
    "                    secret_key=secret_key, secure=False)"
   ]
  },
  {
   "cell_type": "code",
   "execution_count": 29,
   "id": "c6b7aefd-90d7-41f2-8d2d-24045acb85d8",
   "metadata": {},
   "outputs": [],
   "source": [
    "#Configurações de log\n",
    "logging.basicConfig(\n",
    "    format='%(asctime)s %(levelname)-8s %(message)s',\n",
    "    \n",
    "    filename='/home/acsantos/Documents/Facens_Architecture-for-Data-Processing/logs/minio/move_files_' + time.strftime('%Y%m%d-%H%M%S') +'.log',\n",
    "    level=logging.DEBUG,\n",
    "    datefmt='%Y%m%d-%H%M%S'\n",
    ")\n"
   ]
  },
  {
   "cell_type": "code",
   "execution_count": 32,
   "id": "966876c5-70cd-4940-bf37-89f9c36ade05",
   "metadata": {},
   "outputs": [],
   "source": [
    "def fn_move_files(bucket=None, sourcePath=None, destinationPath=None):\n",
    "    \n",
    "    objects = client.list_objects(bucket, prefix=sourcePath)\n",
    "        \n",
    "    for obj in objects:\n",
    "        \n",
    "        objectName = obj.object_name.replace(sourcePath, '')\n",
    "        objectName = destinationPath + objectName\n",
    "        \n",
    "        result = client.copy_object(\n",
    "            bucket,\n",
    "            objectName,\n",
    "            CopySource(bucket, obj.object_name),\n",
    "        )\n",
    "        \n",
    "        client.remove_object(bucket, obj.object_name)"
   ]
  },
  {
   "cell_type": "code",
   "execution_count": 33,
   "id": "ae435eae-491d-413c-95e9-7fd6873e4dfd",
   "metadata": {},
   "outputs": [],
   "source": [
    "fn_move_files(bucket='bronze', sourcePath='topics/steam/partition=0/', destinationPath='processed_files/steam/')"
   ]
  },
  {
   "cell_type": "code",
   "execution_count": null,
   "id": "21ebf49d-ad5b-4bdd-8138-ab494073e7be",
   "metadata": {},
   "outputs": [],
   "source": []
  }
 ],
 "metadata": {
  "kernelspec": {
   "display_name": "Python 3 (ipykernel)",
   "language": "python",
   "name": "python3"
  },
  "language_info": {
   "codemirror_mode": {
    "name": "ipython",
    "version": 3
   },
   "file_extension": ".py",
   "mimetype": "text/x-python",
   "name": "python",
   "nbconvert_exporter": "python",
   "pygments_lexer": "ipython3",
   "version": "3.8.10"
  }
 },
 "nbformat": 4,
 "nbformat_minor": 5
}
