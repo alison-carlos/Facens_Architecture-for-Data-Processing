{
 "cells": [
  {
   "cell_type": "markdown",
   "id": "f81e250c-e7c9-4efd-8a1b-337e376a3fc2",
   "metadata": {},
   "source": [
    "# Importando bibliotecas"
   ]
  },
  {
   "cell_type": "code",
   "execution_count": 1,
   "id": "78ff7bfe-00c4-4570-8e0a-2368285f2492",
   "metadata": {},
   "outputs": [
    {
     "name": "stderr",
     "output_type": "stream",
     "text": [
      "WARNING:root:'PYARROW_IGNORE_TIMEZONE' environment variable was not set. It is required to set this environment variable to '1' in both driver and executor sides if you use pyarrow>=2.0.0. pandas-on-Spark will set it for you but it does not work if there is a Spark context already launched.\n"
     ]
    }
   ],
   "source": [
    "import findspark\n",
    "findspark.init()\n",
    "import pyspark\n",
    "\n",
    "from pyspark import SparkContext\n",
    "from pyspark.sql import SparkSession\n",
    "\n",
    "import pandas as pd\n",
    "import pyspark.pandas as ps\n",
    "\n",
    "from pymongo import MongoClient, collection\n",
    "import urllib.parse\n",
    "\n",
    "import sys\n",
    "sys.path.append('/home/acsantos/Documents/Facens_Architecture-for-Data-Processing/scripts/extract_reviews_from_steam_api')\n",
    "from credentials import credentials\n",
    "from update_last_review import update_last_review\n",
    "\n",
    "\n",
    "from minio import Minio\n",
    "from minio.error import *\n",
    "import boto3\n",
    "from io import BytesIO\n",
    "\n"
   ]
  },
  {
   "cell_type": "markdown",
   "id": "90e2f81d-0373-4676-be24-351d9556a04f",
   "metadata": {},
   "source": [
    "# Mapeando jogos que estão na camada Gold"
   ]
  },
  {
   "cell_type": "code",
   "execution_count": 2,
   "id": "c73a8cc8-3626-4144-a968-86eba836cbb1",
   "metadata": {},
   "outputs": [],
   "source": [
    "host = 'localhost:9000'\n",
    "access_key = 'minio'\n",
    "secret_key = 'miniostorage'\n",
    "\n",
    "client = Minio(host, access_key=access_key,\n",
    "                    secret_key=secret_key, secure=False)\n"
   ]
  },
  {
   "cell_type": "code",
   "execution_count": 22,
   "id": "0913f592-b09f-46a4-b6fa-424d6ee5c8f0",
   "metadata": {},
   "outputs": [],
   "source": [
    "# List objects information whose names starts with \"steam\".\n",
    "objects = client.list_objects(\"gold\", prefix=\"/steam_reviews/reviews.parquet/\")\n",
    "\n",
    "appid = list()\n",
    "\n",
    "for obj in objects:\n",
    "    appid.append(obj.object_name)   \n"
   ]
  },
  {
   "cell_type": "code",
   "execution_count": 23,
   "id": "8adfe513-65bd-4a02-92f2-47ccca2f127a",
   "metadata": {},
   "outputs": [
    {
     "data": {
      "text/plain": [
       "'steam_reviews/reviews.parquet/_SUCCESS'"
      ]
     },
     "execution_count": 23,
     "metadata": {},
     "output_type": "execute_result"
    }
   ],
   "source": [
    "# Removendo \"_SUCCESS\" file\n",
    "\n",
    "appid.pop(0)\n"
   ]
  },
  {
   "cell_type": "code",
   "execution_count": 30,
   "id": "a0f814f9-1d57-4769-95cc-4fbd08487781",
   "metadata": {},
   "outputs": [],
   "source": [
    "list_appid = list()\n",
    "\n",
    "for a in appid:\n",
    "    a = a.replace('steam_reviews/reviews.parquet/appid=', '')\n",
    "    a = a.replace('/','')\n",
    "    list_appid.append(a)\n",
    "    \n",
    "    "
   ]
  },
  {
   "cell_type": "code",
   "execution_count": 35,
   "id": "1ab51d00-c22a-48a1-92b6-804985c44f00",
   "metadata": {},
   "outputs": [
    {
     "name": "stdout",
     "output_type": "stream",
     "text": [
      "1015500\n",
      "1017900\n"
     ]
    }
   ],
   "source": [
    "for a in list_appid[:2]:\n",
    "    print(a)"
   ]
  },
  {
   "cell_type": "code",
   "execution_count": null,
   "id": "c9789920-8aea-4921-9df7-d3c96dc1c87c",
   "metadata": {},
   "outputs": [],
   "source": []
  }
 ],
 "metadata": {
  "kernelspec": {
   "display_name": "Python 3 (ipykernel)",
   "language": "python",
   "name": "python3"
  },
  "language_info": {
   "codemirror_mode": {
    "name": "ipython",
    "version": 3
   },
   "file_extension": ".py",
   "mimetype": "text/x-python",
   "name": "python",
   "nbconvert_exporter": "python",
   "pygments_lexer": "ipython3",
   "version": "3.8.10"
  }
 },
 "nbformat": 4,
 "nbformat_minor": 5
}
