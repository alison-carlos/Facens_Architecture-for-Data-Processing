{
 "cells": [
  {
   "cell_type": "markdown",
   "id": "f6ce18a2-e43b-404e-8c03-85a35f220d05",
   "metadata": {},
   "source": [
    "<h2>Importando bibliotecas</h2>"
   ]
  },
  {
   "cell_type": "code",
   "execution_count": 45,
   "id": "f8755f2b-29f5-411d-91ed-3cd645ae0932",
   "metadata": {},
   "outputs": [],
   "source": [
    "import findspark\n",
    "findspark.init()\n",
    "import pyspark\n"
   ]
  },
  {
   "cell_type": "code",
   "execution_count": 46,
   "id": "1b10d3d7-9ec4-4a0a-9a35-4e69ce10e91c",
   "metadata": {},
   "outputs": [],
   "source": [
    "from pyspark import SparkContext\n",
    "from pyspark.sql import SparkSession"
   ]
  },
  {
   "cell_type": "code",
   "execution_count": 47,
   "id": "a338783b-5f04-41e4-8799-abf0962f065b",
   "metadata": {},
   "outputs": [],
   "source": [
    "import pandas as pd\n",
    "import pyspark.pandas as ps"
   ]
  },
  {
   "cell_type": "code",
   "execution_count": 48,
   "id": "ef778ff0-767c-41a8-b617-242780207085",
   "metadata": {},
   "outputs": [],
   "source": [
    "import sys\n",
    "sys.path.append('/home/acsantos/Documents/Facens_Architecture-for-Data-Processing/scripts/minio')\n",
    "from move_files import fn_move_files"
   ]
  },
  {
   "cell_type": "markdown",
   "id": "eafddd73-01b2-42da-af78-4408df23840f",
   "metadata": {},
   "source": [
    "<h2> Criando sessão do spark + configurações de conexão com bucket </h2>"
   ]
  },
  {
   "cell_type": "code",
   "execution_count": 49,
   "id": "adb7a61b-cffc-4d7c-a96f-c3f3d176b675",
   "metadata": {},
   "outputs": [],
   "source": [
    "spark = SparkSession.builder.appName('Steam API - Tratamento').getOrCreate()"
   ]
  },
  {
   "cell_type": "code",
   "execution_count": 50,
   "id": "d0d44084-3487-4232-ac3b-6a216ee50320",
   "metadata": {},
   "outputs": [],
   "source": [
    "def load_config(spark_context: SparkContext):\n",
    "    spark_context._jsc.hadoopConfiguration().set('fs.s3a.aws.credentials.provider', 'com.amazonaws.auth.EnvironmentVariableCredentialsProvider')\n",
    "    spark_context._jsc.hadoopConfiguration().set('fs.s3a.path.style.access', 'true')\n",
    "    spark_context._jsc.hadoopConfiguration().set('fs.s3a.impl', 'org.apache.hadoop.fs.s3a.S3AFileSystem')\n",
    "    spark_context._jsc.hadoopConfiguration().set('fs.s3a.endpoint', 'http://localhost:9000')\n",
    "    spark_context._jsc.hadoopConfiguration().set('fs.s3a.connection.ssl.enabled', 'false')\n",
    "    \n",
    "load_config(spark.sparkContext)\n"
   ]
  },
  {
   "cell_type": "markdown",
   "id": "6838402d-8041-4693-959d-774a82a4855a",
   "metadata": {},
   "source": [
    "<h2> Lendo dados do bucket </h2>"
   ]
  },
  {
   "cell_type": "code",
   "execution_count": 60,
   "id": "30ee4ff4",
   "metadata": {},
   "outputs": [
    {
     "name": "stderr",
     "output_type": "stream",
     "text": [
      "                                                                                \r"
     ]
    }
   ],
   "source": [
    "df = spark.read.json('s3a://bronze/topics/steam/*', multiLine=True)"
   ]
  },
  {
   "cell_type": "code",
   "execution_count": 61,
   "id": "b6ef2c8d",
   "metadata": {},
   "outputs": [
    {
     "name": "stdout",
     "output_type": "stream",
     "text": [
      "root\n",
      " |-- appid: string (nullable = true)\n",
      " |-- comment_count: long (nullable = true)\n",
      " |-- language: string (nullable = true)\n",
      " |-- last_played: long (nullable = true)\n",
      " |-- num_games_owned: long (nullable = true)\n",
      " |-- num_reviews: long (nullable = true)\n",
      " |-- playtime_forever: long (nullable = true)\n",
      " |-- playtime_last_two_weeks: long (nullable = true)\n",
      " |-- received_for_free: boolean (nullable = true)\n",
      " |-- recommendationid: string (nullable = true)\n",
      " |-- review: string (nullable = true)\n",
      " |-- steam_purchase: boolean (nullable = true)\n",
      " |-- steamid: string (nullable = true)\n",
      " |-- timestamp_created: long (nullable = true)\n",
      " |-- timestamp_updated: long (nullable = true)\n",
      " |-- voted_up: boolean (nullable = true)\n",
      " |-- votes_funny: long (nullable = true)\n",
      " |-- votes_up: long (nullable = true)\n",
      " |-- weighted_vote_score: string (nullable = true)\n",
      " |-- written_during_early_access: boolean (nullable = true)\n",
      "\n"
     ]
    }
   ],
   "source": [
    "df.printSchema()"
   ]
  },
  {
   "cell_type": "code",
   "execution_count": 62,
   "id": "6ff783fb",
   "metadata": {},
   "outputs": [
    {
     "data": {
      "text/plain": [
       "6"
      ]
     },
     "execution_count": 62,
     "metadata": {},
     "output_type": "execute_result"
    }
   ],
   "source": [
    "df.count()"
   ]
  },
  {
   "cell_type": "code",
   "execution_count": 63,
   "id": "777f0290",
   "metadata": {},
   "outputs": [
    {
     "name": "stdout",
     "output_type": "stream",
     "text": [
      "+------+-------------+--------+-----------+---------------+-----------+----------------+-----------------------+-----------------+----------------+--------------------+--------------+-----------------+-----------------+-----------------+--------+-----------+--------+-------------------+---------------------------+\n",
      "| appid|comment_count|language|last_played|num_games_owned|num_reviews|playtime_forever|playtime_last_two_weeks|received_for_free|recommendationid|              review|steam_purchase|          steamid|timestamp_created|timestamp_updated|voted_up|votes_funny|votes_up|weighted_vote_score|written_during_early_access|\n",
      "+------+-------------+--------+-----------+---------------+-----------+----------------+-----------------------+-----------------+----------------+--------------------+--------------+-----------------+-----------------+-----------------+--------+-----------+--------+-------------------+---------------------------+\n",
      "|284160|            0| english| 1650831100|             85|          4|           69138|                    405|            false|       100004176|A realistic vehic...|          true|76561198359273181|       1632677933|       1632677933|    true|          0|       0|                  0|                       true|\n",
      "+------+-------------+--------+-----------+---------------+-----------+----------------+-----------------------+-----------------+----------------+--------------------+--------------+-----------------+-----------------+-----------------+--------+-----------+--------+-------------------+---------------------------+\n",
      "only showing top 1 row\n",
      "\n"
     ]
    }
   ],
   "source": [
    "df.show(1, truncate=True)"
   ]
  },
  {
   "cell_type": "markdown",
   "id": "6a43c1ec",
   "metadata": {},
   "source": [
    "\n",
    "Convertendo de timestamp UNIX para datetime\n"
   ]
  },
  {
   "cell_type": "code",
   "execution_count": 64,
   "id": "8f2e18a0",
   "metadata": {},
   "outputs": [],
   "source": [
    "\n",
    "\n",
    "from pyspark.sql import functions as f\n",
    "from pyspark.sql import types as t\n",
    "from datetime import datetime\n",
    "\n"
   ]
  },
  {
   "cell_type": "code",
   "execution_count": 65,
   "id": "84d95bd3",
   "metadata": {},
   "outputs": [],
   "source": [
    "\n",
    "\n",
    "df.withColumn('last_played', f.date_format(df.last_played.cast(dataType=t.TimestampType()), \"yyyy-MM-dd\")) \\\n",
    "  .withColumn('timestamp_created', f.date_format(df.timestamp_created.cast(dataType=t.TimestampType()), \"yyyy-MM-dd\")) \\\n",
    "  .withColumn('timestamp_updated', f.date_format(df.timestamp_updated.cast(dataType=t.TimestampType()), \"yyyy-MM-dd\"))\n",
    "\n",
    "\n",
    "df2 = df.withColumn('last_played', f.to_date(df.last_played.cast(dataType=t.TimestampType()))) \\\n",
    "        .withColumn('timestamp_created', f.to_date(df.timestamp_created.cast(dataType=t.TimestampType()))) \\\n",
    "        .withColumn('timestamp_updated', f.to_date(df.timestamp_updated.cast(dataType=t.TimestampType())))\n",
    "\n",
    "df2 = df2.withColumn(\"last_played\",f.to_timestamp(df2['last_played'])) \\\n",
    "         .withColumn(\"timestamp_created\",f.to_timestamp(df2['timestamp_created'])) \\\n",
    "         .withColumn(\"timestamp_updated\",f.to_timestamp(df2['timestamp_updated']))"
   ]
  },
  {
   "cell_type": "markdown",
   "id": "91037b8c",
   "metadata": {},
   "source": [
    "\n",
    "Removendo possíveis registros duplicados\n"
   ]
  },
  {
   "cell_type": "code",
   "execution_count": 66,
   "id": "a2339d1c",
   "metadata": {},
   "outputs": [],
   "source": [
    "df3 = df2.drop_duplicates()"
   ]
  },
  {
   "cell_type": "markdown",
   "id": "d9878c01",
   "metadata": {},
   "source": [
    "\n",
    "Filtrando colunas de interesse\n"
   ]
  },
  {
   "cell_type": "code",
   "execution_count": 67,
   "id": "bac870d6",
   "metadata": {},
   "outputs": [],
   "source": [
    "df4 = df3.select('appid', 'recommendationid', 'steamid', 'language', 'last_played', 'num_games_owned', 'playtime_forever', 'review', 'voted_up', 'votes_up','timestamp_created')"
   ]
  },
  {
   "cell_type": "code",
   "execution_count": 68,
   "id": "78fc8459",
   "metadata": {},
   "outputs": [
    {
     "name": "stdout",
     "output_type": "stream",
     "text": [
      "+------+----------------+-----------------+--------+-------------------+---------------+----------------+--------------------+--------+--------+-------------------+\n",
      "| appid|recommendationid|          steamid|language|        last_played|num_games_owned|playtime_forever|              review|voted_up|votes_up|  timestamp_created|\n",
      "+------+----------------+-----------------+--------+-------------------+---------------+----------------+--------------------+--------+--------+-------------------+\n",
      "|284160|       100004176|76561198359273181| english|2022-04-24 00:00:00|             85|           69138|A realistic vehic...|    true|       0|2021-09-26 00:00:00|\n",
      "|285190|       100004807|76561197961181796| english|2021-10-06 00:00:00|            138|             470|for 3 sodding qui...|    true|       1|2021-09-26 00:00:00|\n",
      "|284160|       100000473|76561198307100633| english|2022-04-18 00:00:00|             48|           29111|When the traffic ...|    true|       0|2021-09-26 00:00:00|\n",
      "|284160|       100000679|76561198426276499| english|2022-04-24 00:00:00|             34|           10558|The game is just ...|    true|       1|2021-09-26 00:00:00|\n",
      "|284160|       100001736|76561199102727459| english|2022-04-24 00:00:00|             30|           60378|best vehicle cras...|    true|       0|2021-09-26 00:00:00|\n",
      "|284160|       100001766|76561198202062075| english|2022-04-06 00:00:00|            185|            2564|                good|    true|       0|2021-09-26 00:00:00|\n",
      "+------+----------------+-----------------+--------+-------------------+---------------+----------------+--------------------+--------+--------+-------------------+\n",
      "\n"
     ]
    }
   ],
   "source": [
    "\n",
    "\n",
    "df4.show()\n",
    "\n"
   ]
  },
  {
   "cell_type": "markdown",
   "id": "d792f693",
   "metadata": {},
   "source": [
    "Renomeando coluna appid"
   ]
  },
  {
   "cell_type": "code",
   "execution_count": 70,
   "id": "8eac5156",
   "metadata": {},
   "outputs": [],
   "source": [
    "df4 = df4.withColumnRenamed('appid', 'app_id')"
   ]
  },
  {
   "cell_type": "markdown",
   "id": "7973b665",
   "metadata": {},
   "source": [
    "Gravando na camada Silver"
   ]
  },
  {
   "cell_type": "code",
   "execution_count": 71,
   "id": "5901555d",
   "metadata": {},
   "outputs": [],
   "source": [
    "df4.write.partitionBy('app_id').mode('overwrite').parquet('s3a://silver/steam_reviews/reviews.parquet')"
   ]
  },
  {
   "cell_type": "markdown",
   "id": "ee4c7038",
   "metadata": {},
   "source": [
    "\n",
    "Movendo arquivos que foram lidos para pasta de processados."
   ]
  },
  {
   "cell_type": "code",
   "execution_count": 72,
   "id": "b3fd324d",
   "metadata": {},
   "outputs": [],
   "source": [
    "fn_move_files(bucket='bronze', sourcePath='topics/steam/', destinationPath='processed_files/steam/')"
   ]
  },
  {
   "cell_type": "code",
   "execution_count": null,
   "id": "54ff0391",
   "metadata": {},
   "outputs": [],
   "source": []
  }
 ],
 "metadata": {
  "kernelspec": {
   "display_name": "Python 3 (ipykernel)",
   "language": "python",
   "name": "python3"
  },
  "language_info": {
   "codemirror_mode": {
    "name": "ipython",
    "version": 3
   },
   "file_extension": ".py",
   "mimetype": "text/x-python",
   "name": "python",
   "nbconvert_exporter": "python",
   "pygments_lexer": "ipython3",
   "version": "3.8.10"
  }
 },
 "nbformat": 4,
 "nbformat_minor": 5
}
