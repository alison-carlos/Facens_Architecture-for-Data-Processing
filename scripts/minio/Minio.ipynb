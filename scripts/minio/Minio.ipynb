{
 "cells": [
  {
   "cell_type": "code",
   "execution_count": 3,
   "id": "59217261-74b1-4b6b-8ee9-5c3ea91795ed",
   "metadata": {},
   "outputs": [],
   "source": [
    "from minio import Minio\n",
    "from minio.error import *\n",
    "import boto3\n",
    "from io import BytesIO\n",
    "\n",
    "host = 'localhost:9000'\n",
    "access_key = 'minio'\n",
    "secret_key = 'miniostorage'\n",
    "\n",
    "client = Minio(host, access_key=access_key,\n",
    "                    secret_key=secret_key, secure=False)\n"
   ]
  },
  {
   "cell_type": "code",
   "execution_count": 4,
   "id": "1fb9eac4-5e40-4719-ad57-de7fbb960ea4",
   "metadata": {},
   "outputs": [
    {
     "name": "stdout",
     "output_type": "stream",
     "text": [
      "topics/steam/partition=0/steam+0+0000000000.json\n",
      "topics/steam/partition=0/steam+0+0000000001.json\n"
     ]
    }
   ],
   "source": [
    "# List objects information whose names starts with \"steam\".\n",
    "objects = client.list_objects(\"kafka-bucket\", prefix=\"/topics/steam/partition=0/steam\")\n",
    "\n",
    "for obj in objects:\n",
    "    print(obj.object_name)\n",
    "    #df = pd.read_json()\n",
    "    \n",
    "    \n"
   ]
  },
  {
   "cell_type": "code",
   "execution_count": 5,
   "id": "42f4f95c-a8ea-4c55-8742-c059257d7050",
   "metadata": {},
   "outputs": [
    {
     "data": {
      "text/plain": [
       "<minio.datatypes.Object at 0x7fcadfcfbbb0>"
      ]
     },
     "execution_count": 5,
     "metadata": {},
     "output_type": "execute_result"
    }
   ],
   "source": [
    "# Para baixar os objetos\n",
    "client.fget_object(\"kafka-bucket\", \"/topics/steam/partition=0/steam+0+0000000000.json\", \"teste\")"
   ]
  },
  {
   "cell_type": "code",
   "execution_count": 6,
   "id": "bfe7a3b0-d9cd-471b-83b8-1324f52d599c",
   "metadata": {},
   "outputs": [
    {
     "name": "stdout",
     "output_type": "stream",
     "text": [
      "last-modified: 2022-03-10 01:08:30+00:00, size: 1324\n"
     ]
    }
   ],
   "source": [
    "# Get object information.\n",
    "result = client.stat_object(\"kafka-bucket\", \"/topics/steam/partition=0/steam+0+0000000000.json\")\n",
    "print(\n",
    "    \"last-modified: {0}, size: {1}\".format(\n",
    "        result.last_modified, result.size,\n",
    "    ),\n",
    ")"
   ]
  },
  {
   "cell_type": "code",
   "execution_count": null,
   "id": "a9608118-28c5-4dd5-bd63-29ef1d8e28c2",
   "metadata": {},
   "outputs": [],
   "source": []
  }
 ],
 "metadata": {
  "kernelspec": {
   "display_name": "Python 3 (ipykernel)",
   "language": "python",
   "name": "python3"
  },
  "language_info": {
   "codemirror_mode": {
    "name": "ipython",
    "version": 3
   },
   "file_extension": ".py",
   "mimetype": "text/x-python",
   "name": "python",
   "nbconvert_exporter": "python",
   "pygments_lexer": "ipython3",
   "version": "3.8.10"
  }
 },
 "nbformat": 4,
 "nbformat_minor": 5
}
